{
 "cells": [
  {
   "cell_type": "markdown",
   "metadata": {},
   "source": [
    "### Objective\n",
    "\n",
    "Preserve the waterbodies (Lake, Aquifier, Water Spring, River) for efficient water supply management. To achieve this,it is important to predict the most efficient water availability, in terms of level and water flow for each day of the year."
   ]
  },
  {
   "cell_type": "code",
   "execution_count": 758,
   "metadata": {},
   "outputs": [],
   "source": [
    "import numpy as np # linear algebra\n",
    "import pandas as pd # data processing, CSV file I/O (e.g. pd.read_csv)\n",
    "import matplotlib.pyplot as plt\n",
    "import seaborn as sns\n",
    "import calendar\n",
    "from datetime import datetime as dt"
   ]
  },
  {
   "cell_type": "code",
   "execution_count": 759,
   "metadata": {},
   "outputs": [
    {
     "name": "stdout",
     "output_type": "stream",
     "text": [
      "<class 'pandas.core.frame.DataFrame'>\n",
      "RangeIndex: 6603 entries, 0 to 6602\n",
      "Data columns (total 9 columns):\n",
      " #   Column                Non-Null Count  Dtype  \n",
      "---  ------                --------------  -----  \n",
      " 0   Date                  6603 non-null   object \n",
      " 1   Rainfall_S_Piero      6026 non-null   float64\n",
      " 2   Rainfall_Mangona      6026 non-null   float64\n",
      " 3   Rainfall_S_Agata      6026 non-null   float64\n",
      " 4   Rainfall_Cavallina    6026 non-null   float64\n",
      " 5   Rainfall_Le_Croci     6026 non-null   float64\n",
      " 6   Temperature_Le_Croci  6025 non-null   float64\n",
      " 7   Lake_Level            6603 non-null   float64\n",
      " 8   Flow_Rate             6582 non-null   float64\n",
      "dtypes: float64(8), object(1)\n",
      "memory usage: 464.4+ KB\n"
     ]
    }
   ],
   "source": [
    "#Dowloading the data for Lake Bilancino \n",
    "lb= pd.read_csv('Lake_Bilancino.csv')\n",
    "lb.info()"
   ]
  },
  {
   "cell_type": "code",
   "execution_count": 760,
   "metadata": {},
   "outputs": [
    {
     "data": {
      "text/html": [
       "<div>\n",
       "<style scoped>\n",
       "    .dataframe tbody tr th:only-of-type {\n",
       "        vertical-align: middle;\n",
       "    }\n",
       "\n",
       "    .dataframe tbody tr th {\n",
       "        vertical-align: top;\n",
       "    }\n",
       "\n",
       "    .dataframe thead th {\n",
       "        text-align: right;\n",
       "    }\n",
       "</style>\n",
       "<table border=\"1\" class=\"dataframe\">\n",
       "  <thead>\n",
       "    <tr style=\"text-align: right;\">\n",
       "      <th></th>\n",
       "      <th>Rainfall_S_Piero</th>\n",
       "      <th>Rainfall_Mangona</th>\n",
       "      <th>Rainfall_S_Agata</th>\n",
       "      <th>Rainfall_Cavallina</th>\n",
       "      <th>Rainfall_Le_Croci</th>\n",
       "      <th>Temperature_Le_Croci</th>\n",
       "      <th>Lake_Level</th>\n",
       "      <th>Flow_Rate</th>\n",
       "    </tr>\n",
       "  </thead>\n",
       "  <tbody>\n",
       "    <tr>\n",
       "      <th>count</th>\n",
       "      <td>6026.000000</td>\n",
       "      <td>6026.000000</td>\n",
       "      <td>6026.000000</td>\n",
       "      <td>6026.000000</td>\n",
       "      <td>6026.000000</td>\n",
       "      <td>6025.000000</td>\n",
       "      <td>6603.000000</td>\n",
       "      <td>6582.000000</td>\n",
       "    </tr>\n",
       "    <tr>\n",
       "      <th>mean</th>\n",
       "      <td>2.471225</td>\n",
       "      <td>3.340657</td>\n",
       "      <td>2.670063</td>\n",
       "      <td>2.674743</td>\n",
       "      <td>3.129871</td>\n",
       "      <td>14.530141</td>\n",
       "      <td>249.564091</td>\n",
       "      <td>2.760968</td>\n",
       "    </tr>\n",
       "    <tr>\n",
       "      <th>std</th>\n",
       "      <td>6.650012</td>\n",
       "      <td>8.903134</td>\n",
       "      <td>7.166643</td>\n",
       "      <td>7.655847</td>\n",
       "      <td>8.025121</td>\n",
       "      <td>6.944029</td>\n",
       "      <td>2.172558</td>\n",
       "      <td>4.073428</td>\n",
       "    </tr>\n",
       "    <tr>\n",
       "      <th>min</th>\n",
       "      <td>0.000000</td>\n",
       "      <td>0.000000</td>\n",
       "      <td>0.000000</td>\n",
       "      <td>0.000000</td>\n",
       "      <td>0.000000</td>\n",
       "      <td>-5.350000</td>\n",
       "      <td>243.530000</td>\n",
       "      <td>0.310000</td>\n",
       "    </tr>\n",
       "    <tr>\n",
       "      <th>25%</th>\n",
       "      <td>0.000000</td>\n",
       "      <td>0.000000</td>\n",
       "      <td>0.000000</td>\n",
       "      <td>0.000000</td>\n",
       "      <td>0.000000</td>\n",
       "      <td>9.000000</td>\n",
       "      <td>248.000000</td>\n",
       "      <td>0.600000</td>\n",
       "    </tr>\n",
       "    <tr>\n",
       "      <th>50%</th>\n",
       "      <td>0.000000</td>\n",
       "      <td>0.000000</td>\n",
       "      <td>0.000000</td>\n",
       "      <td>0.000000</td>\n",
       "      <td>0.000000</td>\n",
       "      <td>14.500000</td>\n",
       "      <td>250.200000</td>\n",
       "      <td>1.500000</td>\n",
       "    </tr>\n",
       "    <tr>\n",
       "      <th>75%</th>\n",
       "      <td>0.800000</td>\n",
       "      <td>1.400000</td>\n",
       "      <td>1.200000</td>\n",
       "      <td>0.600000</td>\n",
       "      <td>1.200000</td>\n",
       "      <td>20.100000</td>\n",
       "      <td>251.400000</td>\n",
       "      <td>3.000000</td>\n",
       "    </tr>\n",
       "    <tr>\n",
       "      <th>max</th>\n",
       "      <td>80.600000</td>\n",
       "      <td>110.000000</td>\n",
       "      <td>120.200000</td>\n",
       "      <td>113.600000</td>\n",
       "      <td>88.400000</td>\n",
       "      <td>34.000000</td>\n",
       "      <td>252.760000</td>\n",
       "      <td>74.650000</td>\n",
       "    </tr>\n",
       "  </tbody>\n",
       "</table>\n",
       "</div>"
      ],
      "text/plain": [
       "       Rainfall_S_Piero  Rainfall_Mangona  Rainfall_S_Agata  \\\n",
       "count       6026.000000       6026.000000       6026.000000   \n",
       "mean           2.471225          3.340657          2.670063   \n",
       "std            6.650012          8.903134          7.166643   \n",
       "min            0.000000          0.000000          0.000000   \n",
       "25%            0.000000          0.000000          0.000000   \n",
       "50%            0.000000          0.000000          0.000000   \n",
       "75%            0.800000          1.400000          1.200000   \n",
       "max           80.600000        110.000000        120.200000   \n",
       "\n",
       "       Rainfall_Cavallina  Rainfall_Le_Croci  Temperature_Le_Croci  \\\n",
       "count         6026.000000        6026.000000           6025.000000   \n",
       "mean             2.674743           3.129871             14.530141   \n",
       "std              7.655847           8.025121              6.944029   \n",
       "min              0.000000           0.000000             -5.350000   \n",
       "25%              0.000000           0.000000              9.000000   \n",
       "50%              0.000000           0.000000             14.500000   \n",
       "75%              0.600000           1.200000             20.100000   \n",
       "max            113.600000          88.400000             34.000000   \n",
       "\n",
       "        Lake_Level    Flow_Rate  \n",
       "count  6603.000000  6582.000000  \n",
       "mean    249.564091     2.760968  \n",
       "std       2.172558     4.073428  \n",
       "min     243.530000     0.310000  \n",
       "25%     248.000000     0.600000  \n",
       "50%     250.200000     1.500000  \n",
       "75%     251.400000     3.000000  \n",
       "max     252.760000    74.650000  "
      ]
     },
     "execution_count": 760,
     "metadata": {},
     "output_type": "execute_result"
    }
   ],
   "source": [
    "lb.describe()"
   ]
  },
  {
   "cell_type": "code",
   "execution_count": 761,
   "metadata": {},
   "outputs": [
    {
     "data": {
      "text/plain": [
       "Index(['Date', 'Rainfall_S_Piero', 'Rainfall_Mangona', 'Rainfall_S_Agata',\n",
       "       'Rainfall_Cavallina', 'Rainfall_Le_Croci', 'Temperature_Le_Croci',\n",
       "       'Lake_Level', 'Flow_Rate'],\n",
       "      dtype='object')"
      ]
     },
     "execution_count": 761,
     "metadata": {},
     "output_type": "execute_result"
    }
   ],
   "source": [
    "#Checking the columns\n",
    "lb.columns"
   ]
  },
  {
   "cell_type": "code",
   "execution_count": 762,
   "metadata": {},
   "outputs": [
    {
     "data": {
      "text/html": [
       "<div>\n",
       "<style scoped>\n",
       "    .dataframe tbody tr th:only-of-type {\n",
       "        vertical-align: middle;\n",
       "    }\n",
       "\n",
       "    .dataframe tbody tr th {\n",
       "        vertical-align: top;\n",
       "    }\n",
       "\n",
       "    .dataframe thead th {\n",
       "        text-align: right;\n",
       "    }\n",
       "</style>\n",
       "<table border=\"1\" class=\"dataframe\">\n",
       "  <thead>\n",
       "    <tr style=\"text-align: right;\">\n",
       "      <th></th>\n",
       "      <th>Date</th>\n",
       "      <th>Rainfall_S_Piero</th>\n",
       "      <th>Rainfall_Mangona</th>\n",
       "      <th>Rainfall_S_Agata</th>\n",
       "      <th>Rainfall_Cavallina</th>\n",
       "      <th>Rainfall_Le_Croci</th>\n",
       "      <th>Temperature_Le_Croci</th>\n",
       "      <th>Lake_Level</th>\n",
       "      <th>Flow_Rate</th>\n",
       "    </tr>\n",
       "  </thead>\n",
       "  <tbody>\n",
       "    <tr>\n",
       "      <th>6598</th>\n",
       "      <td>26/06/2020</td>\n",
       "      <td>0.0</td>\n",
       "      <td>0.0</td>\n",
       "      <td>0.0</td>\n",
       "      <td>0.0</td>\n",
       "      <td>0.0</td>\n",
       "      <td>22.50</td>\n",
       "      <td>250.85</td>\n",
       "      <td>0.6</td>\n",
       "    </tr>\n",
       "    <tr>\n",
       "      <th>6599</th>\n",
       "      <td>27/06/2020</td>\n",
       "      <td>0.0</td>\n",
       "      <td>0.0</td>\n",
       "      <td>0.0</td>\n",
       "      <td>0.0</td>\n",
       "      <td>0.0</td>\n",
       "      <td>23.40</td>\n",
       "      <td>250.84</td>\n",
       "      <td>0.6</td>\n",
       "    </tr>\n",
       "    <tr>\n",
       "      <th>6600</th>\n",
       "      <td>28/06/2020</td>\n",
       "      <td>0.0</td>\n",
       "      <td>0.0</td>\n",
       "      <td>0.0</td>\n",
       "      <td>0.0</td>\n",
       "      <td>0.0</td>\n",
       "      <td>21.50</td>\n",
       "      <td>250.83</td>\n",
       "      <td>0.6</td>\n",
       "    </tr>\n",
       "    <tr>\n",
       "      <th>6601</th>\n",
       "      <td>29/06/2020</td>\n",
       "      <td>0.0</td>\n",
       "      <td>0.0</td>\n",
       "      <td>0.0</td>\n",
       "      <td>0.0</td>\n",
       "      <td>0.0</td>\n",
       "      <td>23.20</td>\n",
       "      <td>250.82</td>\n",
       "      <td>0.6</td>\n",
       "    </tr>\n",
       "    <tr>\n",
       "      <th>6602</th>\n",
       "      <td>30/06/2020</td>\n",
       "      <td>0.0</td>\n",
       "      <td>0.0</td>\n",
       "      <td>0.0</td>\n",
       "      <td>0.0</td>\n",
       "      <td>0.0</td>\n",
       "      <td>22.75</td>\n",
       "      <td>250.80</td>\n",
       "      <td>0.6</td>\n",
       "    </tr>\n",
       "  </tbody>\n",
       "</table>\n",
       "</div>"
      ],
      "text/plain": [
       "            Date  Rainfall_S_Piero  Rainfall_Mangona  Rainfall_S_Agata  \\\n",
       "6598  26/06/2020               0.0               0.0               0.0   \n",
       "6599  27/06/2020               0.0               0.0               0.0   \n",
       "6600  28/06/2020               0.0               0.0               0.0   \n",
       "6601  29/06/2020               0.0               0.0               0.0   \n",
       "6602  30/06/2020               0.0               0.0               0.0   \n",
       "\n",
       "      Rainfall_Cavallina  Rainfall_Le_Croci  Temperature_Le_Croci  Lake_Level  \\\n",
       "6598                 0.0                0.0                 22.50      250.85   \n",
       "6599                 0.0                0.0                 23.40      250.84   \n",
       "6600                 0.0                0.0                 21.50      250.83   \n",
       "6601                 0.0                0.0                 23.20      250.82   \n",
       "6602                 0.0                0.0                 22.75      250.80   \n",
       "\n",
       "      Flow_Rate  \n",
       "6598        0.6  \n",
       "6599        0.6  \n",
       "6600        0.6  \n",
       "6601        0.6  \n",
       "6602        0.6  "
      ]
     },
     "execution_count": 762,
     "metadata": {},
     "output_type": "execute_result"
    }
   ],
   "source": [
    "#Checking data of Lake Bilancino\n",
    "lb.tail()"
   ]
  },
  {
   "cell_type": "markdown",
   "metadata": {},
   "source": [
    "### Dataset features provided\n",
    "\n",
    "The features provided are Rain fall, Temperature, Lake level, Flow Rate\n",
    "\n",
    "Output expected Predicted Lake Level and Flow rate.\n",
    "\n",
    "### Tentative Analysis approach\n",
    "\n",
    "1) Plot unfiltered data to see trend->Check the Corelation->Use ML Models to predict flow & Level of lake -> fine tune the model to improve the accuracy.\n",
    "\n",
    "2) Plot unfiltered data to see trend->Check the Corelation->Use features to build a mathematical model to predict flow & Level of lake -> fine tune the model to improve the accuracy"
   ]
  },
  {
   "cell_type": "code",
   "execution_count": 763,
   "metadata": {},
   "outputs": [
    {
     "name": "stdout",
     "output_type": "stream",
     "text": [
      "<class 'pandas.core.frame.DataFrame'>\n",
      "RangeIndex: 6603 entries, 0 to 6602\n",
      "Data columns (total 11 columns):\n",
      " #   Column                Non-Null Count  Dtype         \n",
      "---  ------                --------------  -----         \n",
      " 0   Date                  6603 non-null   datetime64[ns]\n",
      " 1   Rainfall_S_Piero      6026 non-null   float64       \n",
      " 2   Rainfall_Mangona      6026 non-null   float64       \n",
      " 3   Rainfall_S_Agata      6026 non-null   float64       \n",
      " 4   Rainfall_Cavallina    6026 non-null   float64       \n",
      " 5   Rainfall_Le_Croci     6026 non-null   float64       \n",
      " 6   Temperature_Le_Croci  6025 non-null   float64       \n",
      " 7   Lake_Level            6603 non-null   float64       \n",
      " 8   Flow_Rate             6582 non-null   float64       \n",
      " 9   Year                  6603 non-null   int64         \n",
      " 10  Month                 6603 non-null   int64         \n",
      "dtypes: datetime64[ns](1), float64(8), int64(2)\n",
      "memory usage: 567.6 KB\n"
     ]
    }
   ],
   "source": [
    "# Handling date data type\n",
    "lb['Date']= pd.to_datetime(lb['Date'])\n",
    "lb['Year']= lb['Date'].dt.year\n",
    "lb['Month']=lb['Date'].dt.month\n",
    "lb.info()\n"
   ]
  },
  {
   "cell_type": "code",
   "execution_count": 764,
   "metadata": {},
   "outputs": [
    {
     "data": {
      "text/html": [
       "<div>\n",
       "<style scoped>\n",
       "    .dataframe tbody tr th:only-of-type {\n",
       "        vertical-align: middle;\n",
       "    }\n",
       "\n",
       "    .dataframe tbody tr th {\n",
       "        vertical-align: top;\n",
       "    }\n",
       "\n",
       "    .dataframe thead th {\n",
       "        text-align: right;\n",
       "    }\n",
       "</style>\n",
       "<table border=\"1\" class=\"dataframe\">\n",
       "  <thead>\n",
       "    <tr style=\"text-align: right;\">\n",
       "      <th></th>\n",
       "      <th>Date</th>\n",
       "      <th>Rainfall_S_Piero</th>\n",
       "      <th>Rainfall_Mangona</th>\n",
       "      <th>Rainfall_S_Agata</th>\n",
       "      <th>Rainfall_Cavallina</th>\n",
       "      <th>Rainfall_Le_Croci</th>\n",
       "      <th>Temperature_Le_Croci</th>\n",
       "      <th>Lake_Level</th>\n",
       "      <th>Flow_Rate</th>\n",
       "      <th>Year</th>\n",
       "      <th>Month</th>\n",
       "    </tr>\n",
       "  </thead>\n",
       "  <tbody>\n",
       "    <tr>\n",
       "      <th>0</th>\n",
       "      <td>2002-03-06</td>\n",
       "      <td>NaN</td>\n",
       "      <td>NaN</td>\n",
       "      <td>NaN</td>\n",
       "      <td>NaN</td>\n",
       "      <td>NaN</td>\n",
       "      <td>NaN</td>\n",
       "      <td>249.43</td>\n",
       "      <td>0.31</td>\n",
       "      <td>2002</td>\n",
       "      <td>3</td>\n",
       "    </tr>\n",
       "    <tr>\n",
       "      <th>1</th>\n",
       "      <td>2002-04-06</td>\n",
       "      <td>NaN</td>\n",
       "      <td>NaN</td>\n",
       "      <td>NaN</td>\n",
       "      <td>NaN</td>\n",
       "      <td>NaN</td>\n",
       "      <td>NaN</td>\n",
       "      <td>249.43</td>\n",
       "      <td>0.31</td>\n",
       "      <td>2002</td>\n",
       "      <td>4</td>\n",
       "    </tr>\n",
       "    <tr>\n",
       "      <th>2</th>\n",
       "      <td>2002-05-06</td>\n",
       "      <td>NaN</td>\n",
       "      <td>NaN</td>\n",
       "      <td>NaN</td>\n",
       "      <td>NaN</td>\n",
       "      <td>NaN</td>\n",
       "      <td>NaN</td>\n",
       "      <td>249.43</td>\n",
       "      <td>0.31</td>\n",
       "      <td>2002</td>\n",
       "      <td>5</td>\n",
       "    </tr>\n",
       "    <tr>\n",
       "      <th>3</th>\n",
       "      <td>2002-06-06</td>\n",
       "      <td>NaN</td>\n",
       "      <td>NaN</td>\n",
       "      <td>NaN</td>\n",
       "      <td>NaN</td>\n",
       "      <td>NaN</td>\n",
       "      <td>NaN</td>\n",
       "      <td>249.43</td>\n",
       "      <td>0.31</td>\n",
       "      <td>2002</td>\n",
       "      <td>6</td>\n",
       "    </tr>\n",
       "    <tr>\n",
       "      <th>4</th>\n",
       "      <td>2002-07-06</td>\n",
       "      <td>NaN</td>\n",
       "      <td>NaN</td>\n",
       "      <td>NaN</td>\n",
       "      <td>NaN</td>\n",
       "      <td>NaN</td>\n",
       "      <td>NaN</td>\n",
       "      <td>249.44</td>\n",
       "      <td>0.31</td>\n",
       "      <td>2002</td>\n",
       "      <td>7</td>\n",
       "    </tr>\n",
       "  </tbody>\n",
       "</table>\n",
       "</div>"
      ],
      "text/plain": [
       "        Date  Rainfall_S_Piero  Rainfall_Mangona  Rainfall_S_Agata  \\\n",
       "0 2002-03-06               NaN               NaN               NaN   \n",
       "1 2002-04-06               NaN               NaN               NaN   \n",
       "2 2002-05-06               NaN               NaN               NaN   \n",
       "3 2002-06-06               NaN               NaN               NaN   \n",
       "4 2002-07-06               NaN               NaN               NaN   \n",
       "\n",
       "   Rainfall_Cavallina  Rainfall_Le_Croci  Temperature_Le_Croci  Lake_Level  \\\n",
       "0                 NaN                NaN                   NaN      249.43   \n",
       "1                 NaN                NaN                   NaN      249.43   \n",
       "2                 NaN                NaN                   NaN      249.43   \n",
       "3                 NaN                NaN                   NaN      249.43   \n",
       "4                 NaN                NaN                   NaN      249.44   \n",
       "\n",
       "   Flow_Rate  Year  Month  \n",
       "0       0.31  2002      3  \n",
       "1       0.31  2002      4  \n",
       "2       0.31  2002      5  \n",
       "3       0.31  2002      6  \n",
       "4       0.31  2002      7  "
      ]
     },
     "execution_count": 764,
     "metadata": {},
     "output_type": "execute_result"
    }
   ],
   "source": [
    "lb.head()"
   ]
  },
  {
   "cell_type": "markdown",
   "metadata": {},
   "source": [
    "##### Lake level data grouping by year and months"
   ]
  },
  {
   "cell_type": "code",
   "execution_count": 765,
   "metadata": {},
   "outputs": [
    {
     "data": {
      "text/html": [
       "<div>\n",
       "<style scoped>\n",
       "    .dataframe tbody tr th:only-of-type {\n",
       "        vertical-align: middle;\n",
       "    }\n",
       "\n",
       "    .dataframe tbody tr th {\n",
       "        vertical-align: top;\n",
       "    }\n",
       "\n",
       "    .dataframe thead th {\n",
       "        text-align: right;\n",
       "    }\n",
       "</style>\n",
       "<table border=\"1\" class=\"dataframe\">\n",
       "  <thead>\n",
       "    <tr style=\"text-align: right;\">\n",
       "      <th></th>\n",
       "      <th>Year</th>\n",
       "      <th>Month</th>\n",
       "      <th>Lake_Level</th>\n",
       "    </tr>\n",
       "  </thead>\n",
       "  <tbody>\n",
       "    <tr>\n",
       "      <th>0</th>\n",
       "      <td>2002</td>\n",
       "      <td>1</td>\n",
       "      <td>249.158333</td>\n",
       "    </tr>\n",
       "    <tr>\n",
       "      <th>1</th>\n",
       "      <td>2002</td>\n",
       "      <td>2</td>\n",
       "      <td>249.143333</td>\n",
       "    </tr>\n",
       "    <tr>\n",
       "      <th>2</th>\n",
       "      <td>2002</td>\n",
       "      <td>3</td>\n",
       "      <td>249.172857</td>\n",
       "    </tr>\n",
       "    <tr>\n",
       "      <th>3</th>\n",
       "      <td>2002</td>\n",
       "      <td>4</td>\n",
       "      <td>249.148571</td>\n",
       "    </tr>\n",
       "    <tr>\n",
       "      <th>4</th>\n",
       "      <td>2002</td>\n",
       "      <td>5</td>\n",
       "      <td>249.130000</td>\n",
       "    </tr>\n",
       "  </tbody>\n",
       "</table>\n",
       "</div>"
      ],
      "text/plain": [
       "   Year  Month  Lake_Level\n",
       "0  2002      1  249.158333\n",
       "1  2002      2  249.143333\n",
       "2  2002      3  249.172857\n",
       "3  2002      4  249.148571\n",
       "4  2002      5  249.130000"
      ]
     },
     "execution_count": 765,
     "metadata": {},
     "output_type": "execute_result"
    }
   ],
   "source": [
    "Lake_level= lb.groupby([\"Year\", \"Month\"]).Lake_Level.mean().reset_index()\n",
    "Lake_level.head()"
   ]
  },
  {
   "cell_type": "markdown",
   "metadata": {},
   "source": [
    "##### plotting the lake level over the TS to see the variation over year"
   ]
  },
  {
   "cell_type": "code",
   "execution_count": 766,
   "metadata": {},
   "outputs": [
    {
     "data": {
      "text/plain": [
       "<matplotlib.axes._subplots.AxesSubplot at 0x7fec03ded050>"
      ]
     },
     "execution_count": 766,
     "metadata": {},
     "output_type": "execute_result"
    },
    {
     "data": {
      "image/png": "[encoded data removed]",
      "text/plain": [
       "<Figure size 432x288 with 1 Axes>"
      ]
     },
     "metadata": {
      "needs_background": "light"
     },
     "output_type": "display_data"
    }
   ],
   "source": [
    "sns.lineplot(data=Lake_level, x=\"Year\", y=\"Lake_Level\")"
   ]
  },
  {
   "cell_type": "markdown",
   "metadata": {},
   "source": [
    "Minimum Lake level according to the data was 244.52 in 2012 October"
   ]
  },
  {
   "cell_type": "code",
   "execution_count": 767,
   "metadata": {},
   "outputs": [
    {
     "name": "stdout",
     "output_type": "stream",
     "text": [
      "     Year  Month  Lake_Level\n",
      "129  2012     10  244.520645\n"
     ]
    }
   ],
   "source": [
    "print(Lake_level[Lake_level.Lake_Level==Lake_level.Lake_Level.min()])"
   ]
  },
  {
   "cell_type": "markdown",
   "metadata": {},
   "source": [
    "Maximum Lake level reached according to historic data was 251.58 in March 2010"
   ]
  },
  {
   "cell_type": "code",
   "execution_count": 768,
   "metadata": {},
   "outputs": [
    {
     "name": "stdout",
     "output_type": "stream",
     "text": [
      "    Year  Month  Lake_Level\n",
      "98  2010      3  251.582258\n"
     ]
    }
   ],
   "source": [
    "\n",
    "print(Lake_level[Lake_level.Lake_Level==Lake_level.Lake_Level.max()])"
   ]
  },
  {
   "cell_type": "code",
   "execution_count": 769,
   "metadata": {},
   "outputs": [
    {
     "data": {
      "text/plain": [
       "<matplotlib.axes._subplots.AxesSubplot at 0x7fec04277cd0>"
      ]
     },
     "execution_count": 769,
     "metadata": {},
     "output_type": "execute_result"
    },
    {
     "data": {
      "image/png": "[encoded data removed]",
      "text/plain": [
       "<Figure size 432x288 with 1 Axes>"
      ]
     },
     "metadata": {
      "needs_background": "light"
     },
     "output_type": "display_data"
    }
   ],
   "source": [
    "#plotting the lake level over the TS to see the variation over month\n",
    "sns.lineplot(data=Lake_level, x=\"Month\", y=\"Lake_Level\")"
   ]
  },
  {
   "cell_type": "markdown",
   "metadata": {},
   "source": [
    "#### Checking the flow rate over Months and Years"
   ]
  },
  {
   "cell_type": "code",
   "execution_count": 770,
   "metadata": {},
   "outputs": [
    {
     "data": {
      "text/html": [
       "<div>\n",
       "<style scoped>\n",
       "    .dataframe tbody tr th:only-of-type {\n",
       "        vertical-align: middle;\n",
       "    }\n",
       "\n",
       "    .dataframe tbody tr th {\n",
       "        vertical-align: top;\n",
       "    }\n",
       "\n",
       "    .dataframe thead th {\n",
       "        text-align: right;\n",
       "    }\n",
       "</style>\n",
       "<table border=\"1\" class=\"dataframe\">\n",
       "  <thead>\n",
       "    <tr style=\"text-align: right;\">\n",
       "      <th></th>\n",
       "      <th>Year</th>\n",
       "      <th>Month</th>\n",
       "      <th>Flow_Rate</th>\n",
       "    </tr>\n",
       "  </thead>\n",
       "  <tbody>\n",
       "    <tr>\n",
       "      <th>0</th>\n",
       "      <td>2002</td>\n",
       "      <td>1</td>\n",
       "      <td>1.180000</td>\n",
       "    </tr>\n",
       "    <tr>\n",
       "      <th>1</th>\n",
       "      <td>2002</td>\n",
       "      <td>2</td>\n",
       "      <td>2.216667</td>\n",
       "    </tr>\n",
       "    <tr>\n",
       "      <th>2</th>\n",
       "      <td>2002</td>\n",
       "      <td>3</td>\n",
       "      <td>2.315714</td>\n",
       "    </tr>\n",
       "    <tr>\n",
       "      <th>3</th>\n",
       "      <td>2002</td>\n",
       "      <td>4</td>\n",
       "      <td>2.001429</td>\n",
       "    </tr>\n",
       "    <tr>\n",
       "      <th>4</th>\n",
       "      <td>2002</td>\n",
       "      <td>5</td>\n",
       "      <td>2.072857</td>\n",
       "    </tr>\n",
       "  </tbody>\n",
       "</table>\n",
       "</div>"
      ],
      "text/plain": [
       "   Year  Month  Flow_Rate\n",
       "0  2002      1   1.180000\n",
       "1  2002      2   2.216667\n",
       "2  2002      3   2.315714\n",
       "3  2002      4   2.001429\n",
       "4  2002      5   2.072857"
      ]
     },
     "execution_count": 770,
     "metadata": {},
     "output_type": "execute_result"
    }
   ],
   "source": [
    "flow_rate= lb.groupby([\"Year\",\"Month\"]).Flow_Rate.mean().reset_index()\n",
    "flow_rate.head()"
   ]
  },
  {
   "cell_type": "code",
   "execution_count": 771,
   "metadata": {},
   "outputs": [
    {
     "data": {
      "text/plain": [
       "<matplotlib.axes._subplots.AxesSubplot at 0x7fec05af1d50>"
      ]
     },
     "execution_count": 771,
     "metadata": {},
     "output_type": "execute_result"
    },
    {
     "data": {
      "image/png": "[encoded data removed]",
      "text/plain": [
       "<Figure size 432x288 with 1 Axes>"
      ]
     },
     "metadata": {
      "needs_background": "light"
     },
     "output_type": "display_data"
    }
   ],
   "source": [
    "#Plotting the flow rate over the years (2002-2020)\n",
    "sns.lineplot(data=flow_rate,x=\"Year\",y= \"Flow_Rate\")"
   ]
  },
  {
   "cell_type": "code",
   "execution_count": 772,
   "metadata": {},
   "outputs": [
    {
     "data": {
      "text/plain": [
       "<matplotlib.axes._subplots.AxesSubplot at 0x7fec05b27550>"
      ]
     },
     "execution_count": 772,
     "metadata": {},
     "output_type": "execute_result"
    },
    {
     "data": {
      "image/png": "[encoded data removed]",
      "text/plain": [
       "<Figure size 432x288 with 1 Axes>"
      ]
     },
     "metadata": {
      "needs_background": "light"
     },
     "output_type": "display_data"
    }
   ],
   "source": [
    "#Plotting the flow rate over the Months accross the years (2002-2020)\n",
    "sns.lineplot(data=flow_rate,x=\"Month\",y= \"Flow_Rate\")"
   ]
  },
  {
   "cell_type": "markdown",
   "metadata": {},
   "source": [
    "#####  Finding the Month and year with extreme flow rate data"
   ]
  },
  {
   "cell_type": "code",
   "execution_count": 773,
   "metadata": {},
   "outputs": [
    {
     "name": "stdout",
     "output_type": "stream",
     "text": [
      "     Year  Month  Flow_Rate\n",
      "124  2012      5   0.543548\n",
      "     Year  Month  Flow_Rate\n",
      "134  2013      3   11.73129\n"
     ]
    }
   ],
   "source": [
    "print(flow_rate[flow_rate.Flow_Rate==flow_rate.Flow_Rate.min()])\n",
    "\n",
    "print(flow_rate[flow_rate.Flow_Rate==flow_rate.Flow_Rate.max()])\n"
   ]
  },
  {
   "cell_type": "markdown",
   "metadata": {},
   "source": [
    "Flow rate was minimum during May-2012 and Maximum during March 2013"
   ]
  },
  {
   "cell_type": "markdown",
   "metadata": {},
   "source": [
    "#### Rain fall and Temperature Variation over Month & year"
   ]
  },
  {
   "cell_type": "code",
   "execution_count": 774,
   "metadata": {},
   "outputs": [
    {
     "data": {
      "text/html": [
       "<div>\n",
       "<style scoped>\n",
       "    .dataframe tbody tr th:only-of-type {\n",
       "        vertical-align: middle;\n",
       "    }\n",
       "\n",
       "    .dataframe tbody tr th {\n",
       "        vertical-align: top;\n",
       "    }\n",
       "\n",
       "    .dataframe thead th {\n",
       "        text-align: right;\n",
       "    }\n",
       "</style>\n",
       "<table border=\"1\" class=\"dataframe\">\n",
       "  <thead>\n",
       "    <tr style=\"text-align: right;\">\n",
       "      <th></th>\n",
       "      <th>Year</th>\n",
       "      <th>Rainfall_S_Piero</th>\n",
       "      <th>Rainfall_Mangona</th>\n",
       "      <th>Rainfall_S_Agata</th>\n",
       "      <th>Rainfall_Cavallina</th>\n",
       "      <th>Rainfall_Le_Croci</th>\n",
       "    </tr>\n",
       "  </thead>\n",
       "  <tbody>\n",
       "    <tr>\n",
       "      <th>0</th>\n",
       "      <td>2002</td>\n",
       "      <td>NaN</td>\n",
       "      <td>NaN</td>\n",
       "      <td>NaN</td>\n",
       "      <td>NaN</td>\n",
       "      <td>NaN</td>\n",
       "    </tr>\n",
       "    <tr>\n",
       "      <th>1</th>\n",
       "      <td>2003</td>\n",
       "      <td>NaN</td>\n",
       "      <td>NaN</td>\n",
       "      <td>NaN</td>\n",
       "      <td>NaN</td>\n",
       "      <td>NaN</td>\n",
       "    </tr>\n",
       "    <tr>\n",
       "      <th>2</th>\n",
       "      <td>2004</td>\n",
       "      <td>2.387432</td>\n",
       "      <td>3.387432</td>\n",
       "      <td>2.214208</td>\n",
       "      <td>2.915301</td>\n",
       "      <td>3.053005</td>\n",
       "    </tr>\n",
       "    <tr>\n",
       "      <th>3</th>\n",
       "      <td>2005</td>\n",
       "      <td>2.574795</td>\n",
       "      <td>3.069041</td>\n",
       "      <td>2.974247</td>\n",
       "      <td>2.690411</td>\n",
       "      <td>3.058082</td>\n",
       "    </tr>\n",
       "    <tr>\n",
       "      <th>4</th>\n",
       "      <td>2006</td>\n",
       "      <td>2.031233</td>\n",
       "      <td>3.007671</td>\n",
       "      <td>2.193425</td>\n",
       "      <td>1.775890</td>\n",
       "      <td>2.558904</td>\n",
       "    </tr>\n",
       "  </tbody>\n",
       "</table>\n",
       "</div>"
      ],
      "text/plain": [
       "   Year  Rainfall_S_Piero  Rainfall_Mangona  Rainfall_S_Agata  \\\n",
       "0  2002               NaN               NaN               NaN   \n",
       "1  2003               NaN               NaN               NaN   \n",
       "2  2004          2.387432          3.387432          2.214208   \n",
       "3  2005          2.574795          3.069041          2.974247   \n",
       "4  2006          2.031233          3.007671          2.193425   \n",
       "\n",
       "   Rainfall_Cavallina  Rainfall_Le_Croci  \n",
       "0                 NaN                NaN  \n",
       "1                 NaN                NaN  \n",
       "2            2.915301           3.053005  \n",
       "3            2.690411           3.058082  \n",
       "4            1.775890           2.558904  "
      ]
     },
     "execution_count": 774,
     "metadata": {},
     "output_type": "execute_result"
    }
   ],
   "source": [
    "# Rain ditribution over the year\n",
    "rain_yearly= lb.groupby([\"Year\"])[['Rainfall_S_Piero', 'Rainfall_Mangona', 'Rainfall_S_Agata','Rainfall_Cavallina','Rainfall_Le_Croci']].mean().reset_index()\n",
    "rain_yearly.head()"
   ]
  },
  {
   "cell_type": "markdown",
   "metadata": {},
   "source": [
    "##### Plotting the rain pattern over the years"
   ]
  },
  {
   "cell_type": "code",
   "execution_count": 775,
   "metadata": {},
   "outputs": [
    {
     "data": {
      "image/png": "[encoded data removed]",
      "text/plain": [
       "<Figure size 432x288 with 1 Axes>"
      ]
     },
     "metadata": {
      "needs_background": "light"
     },
     "output_type": "display_data"
    }
   ],
   "source": [
    "plt.plot( 'Year', 'Rainfall_S_Piero', data=rain_yearly, marker='', color='blue', linewidth=2)\n",
    "plt.plot( 'Year', 'Rainfall_Mangona', data=rain_yearly, marker='', color='red', linewidth=2)\n",
    "plt.plot( 'Year', 'Rainfall_S_Agata', data=rain_yearly, marker='', color='yellow', linewidth=2)\n",
    "plt.plot( 'Year', 'Rainfall_Cavallina', data=rain_yearly, marker='', color='black', linewidth=2)\n",
    "plt.plot( 'Year', 'Rainfall_Le_Croci', data=rain_yearly, marker='', color='olive', linewidth=2)\n",
    "plt.legend(bbox_to_anchor=(1.04,1), loc=\"upper left\")\n",
    "plt.xticks(rotation = 90)\n",
    "plt.grid()"
   ]
  },
  {
   "cell_type": "code",
   "execution_count": 776,
   "metadata": {},
   "outputs": [
    {
     "data": {
      "text/html": [
       "<div>\n",
       "<style scoped>\n",
       "    .dataframe tbody tr th:only-of-type {\n",
       "        vertical-align: middle;\n",
       "    }\n",
       "\n",
       "    .dataframe tbody tr th {\n",
       "        vertical-align: top;\n",
       "    }\n",
       "\n",
       "    .dataframe thead th {\n",
       "        text-align: right;\n",
       "    }\n",
       "</style>\n",
       "<table border=\"1\" class=\"dataframe\">\n",
       "  <thead>\n",
       "    <tr style=\"text-align: right;\">\n",
       "      <th></th>\n",
       "      <th>Month</th>\n",
       "      <th>Rainfall_S_Piero</th>\n",
       "      <th>Rainfall_Mangona</th>\n",
       "      <th>Rainfall_S_Agata</th>\n",
       "      <th>Rainfall_Cavallina</th>\n",
       "      <th>Rainfall_Le_Croci</th>\n",
       "    </tr>\n",
       "  </thead>\n",
       "  <tbody>\n",
       "    <tr>\n",
       "      <th>0</th>\n",
       "      <td>1</td>\n",
       "      <td>3.200384</td>\n",
       "      <td>4.638004</td>\n",
       "      <td>3.177351</td>\n",
       "      <td>3.612668</td>\n",
       "      <td>4.254127</td>\n",
       "    </tr>\n",
       "    <tr>\n",
       "      <th>1</th>\n",
       "      <td>2</td>\n",
       "      <td>2.679158</td>\n",
       "      <td>3.578526</td>\n",
       "      <td>2.832421</td>\n",
       "      <td>2.949474</td>\n",
       "      <td>3.670737</td>\n",
       "    </tr>\n",
       "    <tr>\n",
       "      <th>2</th>\n",
       "      <td>3</td>\n",
       "      <td>2.137428</td>\n",
       "      <td>2.924376</td>\n",
       "      <td>2.381190</td>\n",
       "      <td>2.514012</td>\n",
       "      <td>2.829175</td>\n",
       "    </tr>\n",
       "    <tr>\n",
       "      <th>3</th>\n",
       "      <td>4</td>\n",
       "      <td>2.705159</td>\n",
       "      <td>3.553968</td>\n",
       "      <td>2.823016</td>\n",
       "      <td>2.771429</td>\n",
       "      <td>3.422619</td>\n",
       "    </tr>\n",
       "    <tr>\n",
       "      <th>4</th>\n",
       "      <td>5</td>\n",
       "      <td>2.682917</td>\n",
       "      <td>3.623033</td>\n",
       "      <td>2.938196</td>\n",
       "      <td>2.812668</td>\n",
       "      <td>3.493282</td>\n",
       "    </tr>\n",
       "  </tbody>\n",
       "</table>\n",
       "</div>"
      ],
      "text/plain": [
       "   Month  Rainfall_S_Piero  Rainfall_Mangona  Rainfall_S_Agata  \\\n",
       "0      1          3.200384          4.638004          3.177351   \n",
       "1      2          2.679158          3.578526          2.832421   \n",
       "2      3          2.137428          2.924376          2.381190   \n",
       "3      4          2.705159          3.553968          2.823016   \n",
       "4      5          2.682917          3.623033          2.938196   \n",
       "\n",
       "   Rainfall_Cavallina  Rainfall_Le_Croci  \n",
       "0            3.612668           4.254127  \n",
       "1            2.949474           3.670737  \n",
       "2            2.514012           2.829175  \n",
       "3            2.771429           3.422619  \n",
       "4            2.812668           3.493282  "
      ]
     },
     "execution_count": 776,
     "metadata": {},
     "output_type": "execute_result"
    }
   ],
   "source": [
    "#Rain distribution over the Months\n",
    "rain_monthly= lb.groupby([\"Month\"])[['Rainfall_S_Piero', 'Rainfall_Mangona', 'Rainfall_S_Agata','Rainfall_Cavallina','Rainfall_Le_Croci']].mean().reset_index()\n",
    "rain_monthly.head()"
   ]
  },
  {
   "cell_type": "code",
   "execution_count": 777,
   "metadata": {},
   "outputs": [
    {
     "data": {
      "image/png": "[encoded data removed]",
      "text/plain": [
       "<Figure size 432x288 with 1 Axes>"
      ]
     },
     "metadata": {
      "needs_background": "light"
     },
     "output_type": "display_data"
    }
   ],
   "source": [
    "plt.plot( 'Month', 'Rainfall_S_Piero', data=rain_monthly, marker='', color='blue', linewidth=2)\n",
    "plt.plot( 'Month', 'Rainfall_Mangona', data=rain_monthly, marker='', color='red', linewidth=2)\n",
    "plt.plot( 'Month', 'Rainfall_S_Agata', data=rain_monthly, marker='', color='yellow', linewidth=2)\n",
    "plt.plot( 'Month', 'Rainfall_Cavallina', data=rain_monthly, marker='', color='black', linewidth=2)\n",
    "plt.plot( 'Month', 'Rainfall_Le_Croci', data=rain_monthly, marker='', color='olive', linewidth=2)\n",
    "plt.legend(bbox_to_anchor=(1.04,1), loc=\"upper left\")\n",
    "plt.xticks(rotation = 90)\n",
    "plt.grid()"
   ]
  },
  {
   "cell_type": "markdown",
   "metadata": {},
   "source": [
    "#### Observation about Rain data:\n",
    "\n",
    "The above plot shows Mangona recieves the maximum rain and S_Piero recieves the minimum over the months in a year.\n",
    "July to August period is the relatively dry period where there is consistent minimum rain.\n",
    "September to February is the time when its raining to a decent level."
   ]
  },
  {
   "cell_type": "markdown",
   "metadata": {},
   "source": [
    "##### Analyzing Temperatrure data"
   ]
  },
  {
   "cell_type": "code",
   "execution_count": 778,
   "metadata": {},
   "outputs": [
    {
     "data": {
      "text/html": [
       "<div>\n",
       "<style scoped>\n",
       "    .dataframe tbody tr th:only-of-type {\n",
       "        vertical-align: middle;\n",
       "    }\n",
       "\n",
       "    .dataframe tbody tr th {\n",
       "        vertical-align: top;\n",
       "    }\n",
       "\n",
       "    .dataframe thead th {\n",
       "        text-align: right;\n",
       "    }\n",
       "</style>\n",
       "<table border=\"1\" class=\"dataframe\">\n",
       "  <thead>\n",
       "    <tr style=\"text-align: right;\">\n",
       "      <th></th>\n",
       "      <th>Year</th>\n",
       "      <th>Month</th>\n",
       "      <th>Temperature_Le_Croci</th>\n",
       "    </tr>\n",
       "  </thead>\n",
       "  <tbody>\n",
       "    <tr>\n",
       "      <th>0</th>\n",
       "      <td>2002</td>\n",
       "      <td>1</td>\n",
       "      <td>NaN</td>\n",
       "    </tr>\n",
       "    <tr>\n",
       "      <th>1</th>\n",
       "      <td>2002</td>\n",
       "      <td>2</td>\n",
       "      <td>NaN</td>\n",
       "    </tr>\n",
       "    <tr>\n",
       "      <th>2</th>\n",
       "      <td>2002</td>\n",
       "      <td>3</td>\n",
       "      <td>NaN</td>\n",
       "    </tr>\n",
       "    <tr>\n",
       "      <th>3</th>\n",
       "      <td>2002</td>\n",
       "      <td>4</td>\n",
       "      <td>NaN</td>\n",
       "    </tr>\n",
       "    <tr>\n",
       "      <th>4</th>\n",
       "      <td>2002</td>\n",
       "      <td>5</td>\n",
       "      <td>NaN</td>\n",
       "    </tr>\n",
       "  </tbody>\n",
       "</table>\n",
       "</div>"
      ],
      "text/plain": [
       "   Year  Month  Temperature_Le_Croci\n",
       "0  2002      1                   NaN\n",
       "1  2002      2                   NaN\n",
       "2  2002      3                   NaN\n",
       "3  2002      4                   NaN\n",
       "4  2002      5                   NaN"
      ]
     },
     "execution_count": 778,
     "metadata": {},
     "output_type": "execute_result"
    }
   ],
   "source": [
    "temperature=lb.groupby([\"Year\",\"Month\"]).Temperature_Le_Croci.mean().reset_index()\n",
    "temperature.head()"
   ]
  },
  {
   "cell_type": "code",
   "execution_count": 779,
   "metadata": {},
   "outputs": [
    {
     "data": {
      "text/plain": [
       "<matplotlib.axes._subplots.AxesSubplot at 0x7fec15a9f850>"
      ]
     },
     "execution_count": 779,
     "metadata": {},
     "output_type": "execute_result"
    },
    {
     "data": {
      "image/png": "[encoded data removed]",
      "text/plain": [
       "<Figure size 432x288 with 1 Axes>"
      ]
     },
     "metadata": {
      "needs_background": "light"
     },
     "output_type": "display_data"
    }
   ],
   "source": [
    "# Plotting the temperature pattern over the Year and Months\n",
    "temperature[\"Year\"]=temperature[\"Year\"].astype(str)\n",
    "sns.lineplot(data=temperature, x=\"Month\", y=\"Temperature_Le_Croci\", hue=\"Year\")"
   ]
  },
  {
   "cell_type": "markdown",
   "metadata": {},
   "source": [
    "#### Obseravtion about Temperature data:\n",
    "Temperature gradually increases from January and reches to peak during June to August and gradually decreases to minimum in January."
   ]
  },
  {
   "cell_type": "code",
   "execution_count": 780,
   "metadata": {},
   "outputs": [
    {
     "data": {
      "text/plain": [
       "Rainfall_S_Piero      577\n",
       "Rainfall_Mangona      577\n",
       "Rainfall_S_Agata      577\n",
       "Rainfall_Cavallina    577\n",
       "Rainfall_Le_Croci     577\n",
       "dtype: int64"
      ]
     },
     "execution_count": 780,
     "metadata": {},
     "output_type": "execute_result"
    }
   ],
   "source": [
    "#Counting the Null value in Rain fall columns\n",
    "lb[['Rainfall_S_Piero','Rainfall_Mangona', 'Rainfall_S_Agata','Rainfall_Cavallina','Rainfall_Le_Croci']].isnull().sum()"
   ]
  },
  {
   "cell_type": "code",
   "execution_count": 781,
   "metadata": {},
   "outputs": [
    {
     "name": "stdout",
     "output_type": "stream",
     "text": [
      "<class 'pandas.core.frame.DataFrame'>\n",
      "Int64Index: 6025 entries, 578 to 6602\n",
      "Data columns (total 11 columns):\n",
      " #   Column                Non-Null Count  Dtype         \n",
      "---  ------                --------------  -----         \n",
      " 0   Date                  6025 non-null   datetime64[ns]\n",
      " 1   Rainfall_S_Piero      6025 non-null   float64       \n",
      " 2   Rainfall_Mangona      6025 non-null   float64       \n",
      " 3   Rainfall_S_Agata      6025 non-null   float64       \n",
      " 4   Rainfall_Cavallina    6025 non-null   float64       \n",
      " 5   Rainfall_Le_Croci     6025 non-null   float64       \n",
      " 6   Temperature_Le_Croci  6025 non-null   float64       \n",
      " 7   Lake_Level            6025 non-null   float64       \n",
      " 8   Flow_Rate             6025 non-null   float64       \n",
      " 9   Year                  6025 non-null   int64         \n",
      " 10  Month                 6025 non-null   int64         \n",
      "dtypes: datetime64[ns](1), float64(8), int64(2)\n",
      "memory usage: 564.8 KB\n"
     ]
    }
   ],
   "source": [
    "# Dropping the rows with missing Rainfall values from Le_Croci\n",
    "lb1=lb.dropna(subset=[\"Rainfall_Le_Croci\",\"Temperature_Le_Croci\"])\n",
    "lb1.info()"
   ]
  },
  {
   "cell_type": "markdown",
   "metadata": {},
   "source": [
    "#### Data Preparation for Model building:"
   ]
  },
  {
   "cell_type": "code",
   "execution_count": 782,
   "metadata": {},
   "outputs": [
    {
     "name": "stderr",
     "output_type": "stream",
     "text": [
      "/Users/farazrahman/opt/anaconda3/lib/python3.7/site-packages/ipykernel_launcher.py:1: SettingWithCopyWarning: \n",
      "A value is trying to be set on a copy of a slice from a DataFrame.\n",
      "Try using .loc[row_indexer,col_indexer] = value instead\n",
      "\n",
      "See the caveats in the documentation: https://pandas.pydata.org/pandas-docs/stable/user_guide/indexing.html#returning-a-view-versus-a-copy\n",
      "  \"\"\"Entry point for launching an IPython kernel.\n",
      "/Users/farazrahman/opt/anaconda3/lib/python3.7/site-packages/ipykernel_launcher.py:3: SettingWithCopyWarning: \n",
      "A value is trying to be set on a copy of a slice from a DataFrame.\n",
      "Try using .loc[row_indexer,col_indexer] = value instead\n",
      "\n",
      "See the caveats in the documentation: https://pandas.pydata.org/pandas-docs/stable/user_guide/indexing.html#returning-a-view-versus-a-copy\n",
      "  This is separate from the ipykernel package so we can avoid doing imports until\n",
      "/Users/farazrahman/opt/anaconda3/lib/python3.7/site-packages/ipykernel_launcher.py:4: SettingWithCopyWarning: \n",
      "A value is trying to be set on a copy of a slice from a DataFrame.\n",
      "Try using .loc[row_indexer,col_indexer] = value instead\n",
      "\n",
      "See the caveats in the documentation: https://pandas.pydata.org/pandas-docs/stable/user_guide/indexing.html#returning-a-view-versus-a-copy\n",
      "  after removing the cwd from sys.path.\n",
      "/Users/farazrahman/opt/anaconda3/lib/python3.7/site-packages/ipykernel_launcher.py:5: SettingWithCopyWarning: \n",
      "A value is trying to be set on a copy of a slice from a DataFrame.\n",
      "Try using .loc[row_indexer,col_indexer] = value instead\n",
      "\n",
      "See the caveats in the documentation: https://pandas.pydata.org/pandas-docs/stable/user_guide/indexing.html#returning-a-view-versus-a-copy\n",
      "  \"\"\"\n",
      "/Users/farazrahman/opt/anaconda3/lib/python3.7/site-packages/ipykernel_launcher.py:6: SettingWithCopyWarning: \n",
      "A value is trying to be set on a copy of a slice from a DataFrame.\n",
      "Try using .loc[row_indexer,col_indexer] = value instead\n",
      "\n",
      "See the caveats in the documentation: https://pandas.pydata.org/pandas-docs/stable/user_guide/indexing.html#returning-a-view-versus-a-copy\n",
      "  \n"
     ]
    },
    {
     "data": {
      "text/html": [
       "<div>\n",
       "<style scoped>\n",
       "    .dataframe tbody tr th:only-of-type {\n",
       "        vertical-align: middle;\n",
       "    }\n",
       "\n",
       "    .dataframe tbody tr th {\n",
       "        vertical-align: top;\n",
       "    }\n",
       "\n",
       "    .dataframe thead th {\n",
       "        text-align: right;\n",
       "    }\n",
       "</style>\n",
       "<table border=\"1\" class=\"dataframe\">\n",
       "  <thead>\n",
       "    <tr style=\"text-align: right;\">\n",
       "      <th></th>\n",
       "      <th>Date</th>\n",
       "      <th>Rainfall_S_Piero</th>\n",
       "      <th>Rainfall_Mangona</th>\n",
       "      <th>Rainfall_S_Agata</th>\n",
       "      <th>Rainfall_Cavallina</th>\n",
       "      <th>Rainfall_Le_Croci</th>\n",
       "      <th>Temperature_Le_Croci</th>\n",
       "      <th>Lake_Level</th>\n",
       "      <th>Flow_Rate</th>\n",
       "      <th>Year</th>\n",
       "      <th>Month</th>\n",
       "      <th>Rainfall_mean</th>\n",
       "      <th>Rainfall_median</th>\n",
       "      <th>Rainfall_min</th>\n",
       "      <th>Rainfall_max</th>\n",
       "      <th>Rainfall_net</th>\n",
       "    </tr>\n",
       "  </thead>\n",
       "  <tbody>\n",
       "    <tr>\n",
       "      <th>578</th>\n",
       "      <td>2004-02-01</td>\n",
       "      <td>0.0</td>\n",
       "      <td>0.0</td>\n",
       "      <td>0.0</td>\n",
       "      <td>0.0</td>\n",
       "      <td>0.0</td>\n",
       "      <td>6.50</td>\n",
       "      <td>251.21</td>\n",
       "      <td>0.5</td>\n",
       "      <td>2004</td>\n",
       "      <td>2</td>\n",
       "      <td>0.00</td>\n",
       "      <td>0.0</td>\n",
       "      <td>0.0</td>\n",
       "      <td>0.0</td>\n",
       "      <td>0.0</td>\n",
       "    </tr>\n",
       "    <tr>\n",
       "      <th>579</th>\n",
       "      <td>2004-03-01</td>\n",
       "      <td>0.0</td>\n",
       "      <td>0.0</td>\n",
       "      <td>0.0</td>\n",
       "      <td>0.0</td>\n",
       "      <td>0.0</td>\n",
       "      <td>4.45</td>\n",
       "      <td>251.28</td>\n",
       "      <td>0.5</td>\n",
       "      <td>2004</td>\n",
       "      <td>3</td>\n",
       "      <td>0.00</td>\n",
       "      <td>0.0</td>\n",
       "      <td>0.0</td>\n",
       "      <td>0.0</td>\n",
       "      <td>0.0</td>\n",
       "    </tr>\n",
       "    <tr>\n",
       "      <th>580</th>\n",
       "      <td>2004-04-01</td>\n",
       "      <td>0.0</td>\n",
       "      <td>0.0</td>\n",
       "      <td>0.0</td>\n",
       "      <td>0.0</td>\n",
       "      <td>0.0</td>\n",
       "      <td>2.00</td>\n",
       "      <td>251.35</td>\n",
       "      <td>0.5</td>\n",
       "      <td>2004</td>\n",
       "      <td>4</td>\n",
       "      <td>0.00</td>\n",
       "      <td>0.0</td>\n",
       "      <td>0.0</td>\n",
       "      <td>0.0</td>\n",
       "      <td>0.0</td>\n",
       "    </tr>\n",
       "    <tr>\n",
       "      <th>581</th>\n",
       "      <td>2004-05-01</td>\n",
       "      <td>0.2</td>\n",
       "      <td>0.0</td>\n",
       "      <td>0.0</td>\n",
       "      <td>0.0</td>\n",
       "      <td>0.0</td>\n",
       "      <td>0.90</td>\n",
       "      <td>251.37</td>\n",
       "      <td>0.5</td>\n",
       "      <td>2004</td>\n",
       "      <td>5</td>\n",
       "      <td>0.04</td>\n",
       "      <td>0.0</td>\n",
       "      <td>0.0</td>\n",
       "      <td>0.2</td>\n",
       "      <td>0.2</td>\n",
       "    </tr>\n",
       "    <tr>\n",
       "      <th>582</th>\n",
       "      <td>2004-06-01</td>\n",
       "      <td>0.0</td>\n",
       "      <td>0.0</td>\n",
       "      <td>0.0</td>\n",
       "      <td>0.0</td>\n",
       "      <td>0.0</td>\n",
       "      <td>2.25</td>\n",
       "      <td>251.42</td>\n",
       "      <td>0.5</td>\n",
       "      <td>2004</td>\n",
       "      <td>6</td>\n",
       "      <td>0.00</td>\n",
       "      <td>0.0</td>\n",
       "      <td>0.0</td>\n",
       "      <td>0.0</td>\n",
       "      <td>0.0</td>\n",
       "    </tr>\n",
       "  </tbody>\n",
       "</table>\n",
       "</div>"
      ],
      "text/plain": [
       "          Date  Rainfall_S_Piero  Rainfall_Mangona  Rainfall_S_Agata  \\\n",
       "578 2004-02-01               0.0               0.0               0.0   \n",
       "579 2004-03-01               0.0               0.0               0.0   \n",
       "580 2004-04-01               0.0               0.0               0.0   \n",
       "581 2004-05-01               0.2               0.0               0.0   \n",
       "582 2004-06-01               0.0               0.0               0.0   \n",
       "\n",
       "     Rainfall_Cavallina  Rainfall_Le_Croci  Temperature_Le_Croci  Lake_Level  \\\n",
       "578                 0.0                0.0                  6.50      251.21   \n",
       "579                 0.0                0.0                  4.45      251.28   \n",
       "580                 0.0                0.0                  2.00      251.35   \n",
       "581                 0.0                0.0                  0.90      251.37   \n",
       "582                 0.0                0.0                  2.25      251.42   \n",
       "\n",
       "     Flow_Rate  Year  Month  Rainfall_mean  Rainfall_median  Rainfall_min  \\\n",
       "578        0.5  2004      2           0.00              0.0           0.0   \n",
       "579        0.5  2004      3           0.00              0.0           0.0   \n",
       "580        0.5  2004      4           0.00              0.0           0.0   \n",
       "581        0.5  2004      5           0.04              0.0           0.0   \n",
       "582        0.5  2004      6           0.00              0.0           0.0   \n",
       "\n",
       "     Rainfall_max  Rainfall_net  \n",
       "578           0.0           0.0  \n",
       "579           0.0           0.0  \n",
       "580           0.0           0.0  \n",
       "581           0.2           0.2  \n",
       "582           0.0           0.0  "
      ]
     },
     "execution_count": 782,
     "metadata": {},
     "output_type": "execute_result"
    }
   ],
   "source": [
    "lb1['Rainfall_mean']=lb1[['Rainfall_S_Piero','Rainfall_Mangona', 'Rainfall_S_Agata','Rainfall_Cavallina','Rainfall_Le_Croci']].mean(axis = 1)\n",
    "#lb1['Rainfall_mean']=lb1.apply(lambda row:(row.Rainfall_S_Piero+ row.Rainfall_Mangona+row.Rainfall_S_Agata+row.Rainfall_Cavallina+row.Rainfall_Le_Croci)/5,axis=1)\n",
    "lb1['Rainfall_median']=lb1[['Rainfall_S_Piero','Rainfall_Mangona', 'Rainfall_S_Agata','Rainfall_Cavallina','Rainfall_Le_Croci']].median(axis = 1)\n",
    "lb1['Rainfall_min']=lb1[['Rainfall_S_Piero','Rainfall_Mangona', 'Rainfall_S_Agata','Rainfall_Cavallina','Rainfall_Le_Croci']].min(axis = 1)\n",
    "lb1['Rainfall_max']=lb1[['Rainfall_S_Piero','Rainfall_Mangona', 'Rainfall_S_Agata','Rainfall_Cavallina','Rainfall_Le_Croci']].max(axis = 1)\n",
    "lb1['Rainfall_net']=lb1[['Rainfall_S_Piero','Rainfall_Mangona', 'Rainfall_S_Agata','Rainfall_Cavallina','Rainfall_Le_Croci']].sum(axis = 1)\n",
    "lb1.head()"
   ]
  },
  {
   "cell_type": "code",
   "execution_count": 783,
   "metadata": {},
   "outputs": [
    {
     "name": "stderr",
     "output_type": "stream",
     "text": [
      "/Users/farazrahman/opt/anaconda3/lib/python3.7/site-packages/ipykernel_launcher.py:1: SettingWithCopyWarning: \n",
      "A value is trying to be set on a copy of a slice from a DataFrame.\n",
      "Try using .loc[row_indexer,col_indexer] = value instead\n",
      "\n",
      "See the caveats in the documentation: https://pandas.pydata.org/pandas-docs/stable/user_guide/indexing.html#returning-a-view-versus-a-copy\n",
      "  \"\"\"Entry point for launching an IPython kernel.\n"
     ]
    }
   ],
   "source": [
    "lb1['day_of_the_year'] = lb1['Date'].dt.dayofyear"
   ]
  },
  {
   "cell_type": "markdown",
   "metadata": {},
   "source": [
    "#### Heat map for checking the corelation between original & derived variables"
   ]
  },
  {
   "cell_type": "code",
   "execution_count": 784,
   "metadata": {},
   "outputs": [
    {
     "name": "stdout",
     "output_type": "stream",
     "text": [
      "<class 'pandas.core.frame.DataFrame'>\n",
      "Int64Index: 6025 entries, 578 to 6602\n",
      "Data columns (total 17 columns):\n",
      " #   Column                Non-Null Count  Dtype         \n",
      "---  ------                --------------  -----         \n",
      " 0   Date                  6025 non-null   datetime64[ns]\n",
      " 1   Rainfall_S_Piero      6025 non-null   float64       \n",
      " 2   Rainfall_Mangona      6025 non-null   float64       \n",
      " 3   Rainfall_S_Agata      6025 non-null   float64       \n",
      " 4   Rainfall_Cavallina    6025 non-null   float64       \n",
      " 5   Rainfall_Le_Croci     6025 non-null   float64       \n",
      " 6   Temperature_Le_Croci  6025 non-null   float64       \n",
      " 7   Lake_Level            6025 non-null   float64       \n",
      " 8   Flow_Rate             6025 non-null   float64       \n",
      " 9   Year                  6025 non-null   int64         \n",
      " 10  Month                 6025 non-null   int64         \n",
      " 11  Rainfall_mean         6025 non-null   float64       \n",
      " 12  Rainfall_median       6025 non-null   float64       \n",
      " 13  Rainfall_min          6025 non-null   float64       \n",
      " 14  Rainfall_max          6025 non-null   float64       \n",
      " 15  Rainfall_net          6025 non-null   float64       \n",
      " 16  day_of_the_year       6025 non-null   int64         \n",
      "dtypes: datetime64[ns](1), float64(13), int64(3)\n",
      "memory usage: 847.3 KB\n"
     ]
    }
   ],
   "source": [
    "lb1.info()"
   ]
  },
  {
   "cell_type": "markdown",
   "metadata": {},
   "source": [
    "##### Checking the Lake_Level dependency on other parameters through a corelation order"
   ]
  },
  {
   "cell_type": "code",
   "execution_count": 785,
   "metadata": {},
   "outputs": [
    {
     "data": {
      "text/html": [
       "<div>\n",
       "<style scoped>\n",
       "    .dataframe tbody tr th:only-of-type {\n",
       "        vertical-align: middle;\n",
       "    }\n",
       "\n",
       "    .dataframe tbody tr th {\n",
       "        vertical-align: top;\n",
       "    }\n",
       "\n",
       "    .dataframe thead th {\n",
       "        text-align: right;\n",
       "    }\n",
       "</style>\n",
       "<table border=\"1\" class=\"dataframe\">\n",
       "  <thead>\n",
       "    <tr style=\"text-align: right;\">\n",
       "      <th></th>\n",
       "      <th>Rainfall_S_Piero</th>\n",
       "      <th>Rainfall_Mangona</th>\n",
       "      <th>Rainfall_S_Agata</th>\n",
       "      <th>Rainfall_Cavallina</th>\n",
       "      <th>Rainfall_Le_Croci</th>\n",
       "      <th>Temperature_Le_Croci</th>\n",
       "      <th>Lake_Level</th>\n",
       "      <th>Flow_Rate</th>\n",
       "      <th>Year</th>\n",
       "      <th>Month</th>\n",
       "      <th>Rainfall_mean</th>\n",
       "      <th>Rainfall_median</th>\n",
       "      <th>Rainfall_min</th>\n",
       "      <th>Rainfall_max</th>\n",
       "      <th>Rainfall_net</th>\n",
       "      <th>day_of_the_year</th>\n",
       "    </tr>\n",
       "  </thead>\n",
       "  <tbody>\n",
       "    <tr>\n",
       "      <th>Lake_Level</th>\n",
       "      <td>0.034109</td>\n",
       "      <td>0.032220</td>\n",
       "      <td>0.032222</td>\n",
       "      <td>0.033917</td>\n",
       "      <td>0.024466</td>\n",
       "      <td>0.063569</td>\n",
       "      <td>1.000000</td>\n",
       "      <td>0.298833</td>\n",
       "      <td>0.031536</td>\n",
       "      <td>0.302244</td>\n",
       "      <td>0.032788</td>\n",
       "      <td>0.036769</td>\n",
       "      <td>0.036356</td>\n",
       "      <td>0.023048</td>\n",
       "      <td>0.032788</td>\n",
       "      <td>0.309838</td>\n",
       "    </tr>\n",
       "    <tr>\n",
       "      <th>day_of_the_year</th>\n",
       "      <td>0.000624</td>\n",
       "      <td>0.001834</td>\n",
       "      <td>0.009415</td>\n",
       "      <td>0.001726</td>\n",
       "      <td>0.015312</td>\n",
       "      <td>0.101082</td>\n",
       "      <td>0.309838</td>\n",
       "      <td>0.068541</td>\n",
       "      <td>0.028911</td>\n",
       "      <td>0.996468</td>\n",
       "      <td>0.002433</td>\n",
       "      <td>0.004961</td>\n",
       "      <td>0.003297</td>\n",
       "      <td>0.001760</td>\n",
       "      <td>0.002433</td>\n",
       "      <td>1.000000</td>\n",
       "    </tr>\n",
       "    <tr>\n",
       "      <th>Month</th>\n",
       "      <td>0.000346</td>\n",
       "      <td>0.001683</td>\n",
       "      <td>0.009815</td>\n",
       "      <td>0.002205</td>\n",
       "      <td>0.014643</td>\n",
       "      <td>0.097946</td>\n",
       "      <td>0.302244</td>\n",
       "      <td>0.064404</td>\n",
       "      <td>0.027975</td>\n",
       "      <td>1.000000</td>\n",
       "      <td>0.002221</td>\n",
       "      <td>0.004979</td>\n",
       "      <td>0.003153</td>\n",
       "      <td>0.002229</td>\n",
       "      <td>0.002221</td>\n",
       "      <td>0.996468</td>\n",
       "    </tr>\n",
       "    <tr>\n",
       "      <th>Flow_Rate</th>\n",
       "      <td>0.142212</td>\n",
       "      <td>0.166188</td>\n",
       "      <td>0.158860</td>\n",
       "      <td>0.172770</td>\n",
       "      <td>0.186994</td>\n",
       "      <td>0.195136</td>\n",
       "      <td>0.298833</td>\n",
       "      <td>1.000000</td>\n",
       "      <td>0.041853</td>\n",
       "      <td>0.064404</td>\n",
       "      <td>0.174429</td>\n",
       "      <td>0.175601</td>\n",
       "      <td>0.159276</td>\n",
       "      <td>0.172575</td>\n",
       "      <td>0.174429</td>\n",
       "      <td>0.068541</td>\n",
       "    </tr>\n",
       "    <tr>\n",
       "      <th>Temperature_Le_Croci</th>\n",
       "      <td>0.133295</td>\n",
       "      <td>0.134986</td>\n",
       "      <td>0.124250</td>\n",
       "      <td>0.128926</td>\n",
       "      <td>0.139045</td>\n",
       "      <td>1.000000</td>\n",
       "      <td>0.063569</td>\n",
       "      <td>0.195136</td>\n",
       "      <td>0.013440</td>\n",
       "      <td>0.097946</td>\n",
       "      <td>0.138774</td>\n",
       "      <td>0.141917</td>\n",
       "      <td>0.138156</td>\n",
       "      <td>0.125451</td>\n",
       "      <td>0.138774</td>\n",
       "      <td>0.101082</td>\n",
       "    </tr>\n",
       "    <tr>\n",
       "      <th>Rainfall_median</th>\n",
       "      <td>0.953416</td>\n",
       "      <td>0.921651</td>\n",
       "      <td>0.937511</td>\n",
       "      <td>0.960909</td>\n",
       "      <td>0.958410</td>\n",
       "      <td>0.141917</td>\n",
       "      <td>0.036769</td>\n",
       "      <td>0.175601</td>\n",
       "      <td>0.015385</td>\n",
       "      <td>0.004979</td>\n",
       "      <td>0.991675</td>\n",
       "      <td>1.000000</td>\n",
       "      <td>0.959412</td>\n",
       "      <td>0.941246</td>\n",
       "      <td>0.991675</td>\n",
       "      <td>0.004961</td>\n",
       "    </tr>\n",
       "    <tr>\n",
       "      <th>Rainfall_min</th>\n",
       "      <td>0.948793</td>\n",
       "      <td>0.899164</td>\n",
       "      <td>0.903112</td>\n",
       "      <td>0.925997</td>\n",
       "      <td>0.921039</td>\n",
       "      <td>0.138156</td>\n",
       "      <td>0.036356</td>\n",
       "      <td>0.159276</td>\n",
       "      <td>0.006793</td>\n",
       "      <td>0.003153</td>\n",
       "      <td>0.963146</td>\n",
       "      <td>0.959412</td>\n",
       "      <td>1.000000</td>\n",
       "      <td>0.890430</td>\n",
       "      <td>0.963146</td>\n",
       "      <td>0.003297</td>\n",
       "    </tr>\n",
       "    <tr>\n",
       "      <th>Rainfall_S_Piero</th>\n",
       "      <td>1.000000</td>\n",
       "      <td>0.867114</td>\n",
       "      <td>0.897862</td>\n",
       "      <td>0.908541</td>\n",
       "      <td>0.910066</td>\n",
       "      <td>0.133295</td>\n",
       "      <td>0.034109</td>\n",
       "      <td>0.142212</td>\n",
       "      <td>0.022858</td>\n",
       "      <td>0.000346</td>\n",
       "      <td>0.957571</td>\n",
       "      <td>0.953416</td>\n",
       "      <td>0.948793</td>\n",
       "      <td>0.906942</td>\n",
       "      <td>0.957571</td>\n",
       "      <td>0.000624</td>\n",
       "    </tr>\n",
       "    <tr>\n",
       "      <th>Rainfall_Cavallina</th>\n",
       "      <td>0.908541</td>\n",
       "      <td>0.873147</td>\n",
       "      <td>0.887616</td>\n",
       "      <td>1.000000</td>\n",
       "      <td>0.922998</td>\n",
       "      <td>0.128926</td>\n",
       "      <td>0.033917</td>\n",
       "      <td>0.172770</td>\n",
       "      <td>0.020108</td>\n",
       "      <td>0.002205</td>\n",
       "      <td>0.962379</td>\n",
       "      <td>0.960909</td>\n",
       "      <td>0.925997</td>\n",
       "      <td>0.920235</td>\n",
       "      <td>0.962379</td>\n",
       "      <td>0.001726</td>\n",
       "    </tr>\n",
       "    <tr>\n",
       "      <th>Rainfall_net</th>\n",
       "      <td>0.957571</td>\n",
       "      <td>0.941934</td>\n",
       "      <td>0.947878</td>\n",
       "      <td>0.962379</td>\n",
       "      <td>0.959791</td>\n",
       "      <td>0.138774</td>\n",
       "      <td>0.032788</td>\n",
       "      <td>0.174429</td>\n",
       "      <td>0.016879</td>\n",
       "      <td>0.002221</td>\n",
       "      <td>1.000000</td>\n",
       "      <td>0.991675</td>\n",
       "      <td>0.963146</td>\n",
       "      <td>0.970354</td>\n",
       "      <td>1.000000</td>\n",
       "      <td>0.002433</td>\n",
       "    </tr>\n",
       "    <tr>\n",
       "      <th>Rainfall_mean</th>\n",
       "      <td>0.957571</td>\n",
       "      <td>0.941934</td>\n",
       "      <td>0.947878</td>\n",
       "      <td>0.962379</td>\n",
       "      <td>0.959791</td>\n",
       "      <td>0.138774</td>\n",
       "      <td>0.032788</td>\n",
       "      <td>0.174429</td>\n",
       "      <td>0.016879</td>\n",
       "      <td>0.002221</td>\n",
       "      <td>1.000000</td>\n",
       "      <td>0.991675</td>\n",
       "      <td>0.963146</td>\n",
       "      <td>0.970354</td>\n",
       "      <td>1.000000</td>\n",
       "      <td>0.002433</td>\n",
       "    </tr>\n",
       "    <tr>\n",
       "      <th>Rainfall_S_Agata</th>\n",
       "      <td>0.897862</td>\n",
       "      <td>0.865831</td>\n",
       "      <td>1.000000</td>\n",
       "      <td>0.887616</td>\n",
       "      <td>0.880650</td>\n",
       "      <td>0.124250</td>\n",
       "      <td>0.032222</td>\n",
       "      <td>0.158860</td>\n",
       "      <td>0.015758</td>\n",
       "      <td>0.009815</td>\n",
       "      <td>0.947878</td>\n",
       "      <td>0.937511</td>\n",
       "      <td>0.903112</td>\n",
       "      <td>0.924994</td>\n",
       "      <td>0.947878</td>\n",
       "      <td>0.009415</td>\n",
       "    </tr>\n",
       "    <tr>\n",
       "      <th>Rainfall_Mangona</th>\n",
       "      <td>0.867114</td>\n",
       "      <td>1.000000</td>\n",
       "      <td>0.865831</td>\n",
       "      <td>0.873147</td>\n",
       "      <td>0.863777</td>\n",
       "      <td>0.134986</td>\n",
       "      <td>0.032220</td>\n",
       "      <td>0.166188</td>\n",
       "      <td>0.016456</td>\n",
       "      <td>0.001683</td>\n",
       "      <td>0.941934</td>\n",
       "      <td>0.921651</td>\n",
       "      <td>0.899164</td>\n",
       "      <td>0.943680</td>\n",
       "      <td>0.941934</td>\n",
       "      <td>0.001834</td>\n",
       "    </tr>\n",
       "    <tr>\n",
       "      <th>Year</th>\n",
       "      <td>0.022858</td>\n",
       "      <td>0.016456</td>\n",
       "      <td>0.015758</td>\n",
       "      <td>0.020108</td>\n",
       "      <td>0.006563</td>\n",
       "      <td>0.013440</td>\n",
       "      <td>0.031536</td>\n",
       "      <td>0.041853</td>\n",
       "      <td>1.000000</td>\n",
       "      <td>0.027975</td>\n",
       "      <td>0.016879</td>\n",
       "      <td>0.015385</td>\n",
       "      <td>0.006793</td>\n",
       "      <td>0.024506</td>\n",
       "      <td>0.016879</td>\n",
       "      <td>0.028911</td>\n",
       "    </tr>\n",
       "    <tr>\n",
       "      <th>Rainfall_Le_Croci</th>\n",
       "      <td>0.910066</td>\n",
       "      <td>0.863777</td>\n",
       "      <td>0.880650</td>\n",
       "      <td>0.922998</td>\n",
       "      <td>1.000000</td>\n",
       "      <td>0.139045</td>\n",
       "      <td>0.024466</td>\n",
       "      <td>0.186994</td>\n",
       "      <td>0.006563</td>\n",
       "      <td>0.014643</td>\n",
       "      <td>0.959791</td>\n",
       "      <td>0.958410</td>\n",
       "      <td>0.921039</td>\n",
       "      <td>0.925179</td>\n",
       "      <td>0.959791</td>\n",
       "      <td>0.015312</td>\n",
       "    </tr>\n",
       "    <tr>\n",
       "      <th>Rainfall_max</th>\n",
       "      <td>0.906942</td>\n",
       "      <td>0.943680</td>\n",
       "      <td>0.924994</td>\n",
       "      <td>0.920235</td>\n",
       "      <td>0.925179</td>\n",
       "      <td>0.125451</td>\n",
       "      <td>0.023048</td>\n",
       "      <td>0.172575</td>\n",
       "      <td>0.024506</td>\n",
       "      <td>0.002229</td>\n",
       "      <td>0.970354</td>\n",
       "      <td>0.941246</td>\n",
       "      <td>0.890430</td>\n",
       "      <td>1.000000</td>\n",
       "      <td>0.970354</td>\n",
       "      <td>0.001760</td>\n",
       "    </tr>\n",
       "  </tbody>\n",
       "</table>\n",
       "</div>"
      ],
      "text/plain": [
       "                      Rainfall_S_Piero  Rainfall_Mangona  Rainfall_S_Agata  \\\n",
       "Lake_Level                    0.034109          0.032220          0.032222   \n",
       "day_of_the_year               0.000624          0.001834          0.009415   \n",
       "Month                         0.000346          0.001683          0.009815   \n",
       "Flow_Rate                     0.142212          0.166188          0.158860   \n",
       "Temperature_Le_Croci          0.133295          0.134986          0.124250   \n",
       "Rainfall_median               0.953416          0.921651          0.937511   \n",
       "Rainfall_min                  0.948793          0.899164          0.903112   \n",
       "Rainfall_S_Piero              1.000000          0.867114          0.897862   \n",
       "Rainfall_Cavallina            0.908541          0.873147          0.887616   \n",
       "Rainfall_net                  0.957571          0.941934          0.947878   \n",
       "Rainfall_mean                 0.957571          0.941934          0.947878   \n",
       "Rainfall_S_Agata              0.897862          0.865831          1.000000   \n",
       "Rainfall_Mangona              0.867114          1.000000          0.865831   \n",
       "Year                          0.022858          0.016456          0.015758   \n",
       "Rainfall_Le_Croci             0.910066          0.863777          0.880650   \n",
       "Rainfall_max                  0.906942          0.943680          0.924994   \n",
       "\n",
       "                      Rainfall_Cavallina  Rainfall_Le_Croci  \\\n",
       "Lake_Level                      0.033917           0.024466   \n",
       "day_of_the_year                 0.001726           0.015312   \n",
       "Month                           0.002205           0.014643   \n",
       "Flow_Rate                       0.172770           0.186994   \n",
       "Temperature_Le_Croci            0.128926           0.139045   \n",
       "Rainfall_median                 0.960909           0.958410   \n",
       "Rainfall_min                    0.925997           0.921039   \n",
       "Rainfall_S_Piero                0.908541           0.910066   \n",
       "Rainfall_Cavallina              1.000000           0.922998   \n",
       "Rainfall_net                    0.962379           0.959791   \n",
       "Rainfall_mean                   0.962379           0.959791   \n",
       "Rainfall_S_Agata                0.887616           0.880650   \n",
       "Rainfall_Mangona                0.873147           0.863777   \n",
       "Year                            0.020108           0.006563   \n",
       "Rainfall_Le_Croci               0.922998           1.000000   \n",
       "Rainfall_max                    0.920235           0.925179   \n",
       "\n",
       "                      Temperature_Le_Croci  Lake_Level  Flow_Rate      Year  \\\n",
       "Lake_Level                        0.063569    1.000000   0.298833  0.031536   \n",
       "day_of_the_year                   0.101082    0.309838   0.068541  0.028911   \n",
       "Month                             0.097946    0.302244   0.064404  0.027975   \n",
       "Flow_Rate                         0.195136    0.298833   1.000000  0.041853   \n",
       "Temperature_Le_Croci              1.000000    0.063569   0.195136  0.013440   \n",
       "Rainfall_median                   0.141917    0.036769   0.175601  0.015385   \n",
       "Rainfall_min                      0.138156    0.036356   0.159276  0.006793   \n",
       "Rainfall_S_Piero                  0.133295    0.034109   0.142212  0.022858   \n",
       "Rainfall_Cavallina                0.128926    0.033917   0.172770  0.020108   \n",
       "Rainfall_net                      0.138774    0.032788   0.174429  0.016879   \n",
       "Rainfall_mean                     0.138774    0.032788   0.174429  0.016879   \n",
       "Rainfall_S_Agata                  0.124250    0.032222   0.158860  0.015758   \n",
       "Rainfall_Mangona                  0.134986    0.032220   0.166188  0.016456   \n",
       "Year                              0.013440    0.031536   0.041853  1.000000   \n",
       "Rainfall_Le_Croci                 0.139045    0.024466   0.186994  0.006563   \n",
       "Rainfall_max                      0.125451    0.023048   0.172575  0.024506   \n",
       "\n",
       "                         Month  Rainfall_mean  Rainfall_median  Rainfall_min  \\\n",
       "Lake_Level            0.302244       0.032788         0.036769      0.036356   \n",
       "day_of_the_year       0.996468       0.002433         0.004961      0.003297   \n",
       "Month                 1.000000       0.002221         0.004979      0.003153   \n",
       "Flow_Rate             0.064404       0.174429         0.175601      0.159276   \n",
       "Temperature_Le_Croci  0.097946       0.138774         0.141917      0.138156   \n",
       "Rainfall_median       0.004979       0.991675         1.000000      0.959412   \n",
       "Rainfall_min          0.003153       0.963146         0.959412      1.000000   \n",
       "Rainfall_S_Piero      0.000346       0.957571         0.953416      0.948793   \n",
       "Rainfall_Cavallina    0.002205       0.962379         0.960909      0.925997   \n",
       "Rainfall_net          0.002221       1.000000         0.991675      0.963146   \n",
       "Rainfall_mean         0.002221       1.000000         0.991675      0.963146   \n",
       "Rainfall_S_Agata      0.009815       0.947878         0.937511      0.903112   \n",
       "Rainfall_Mangona      0.001683       0.941934         0.921651      0.899164   \n",
       "Year                  0.027975       0.016879         0.015385      0.006793   \n",
       "Rainfall_Le_Croci     0.014643       0.959791         0.958410      0.921039   \n",
       "Rainfall_max          0.002229       0.970354         0.941246      0.890430   \n",
       "\n",
       "                      Rainfall_max  Rainfall_net  day_of_the_year  \n",
       "Lake_Level                0.023048      0.032788         0.309838  \n",
       "day_of_the_year           0.001760      0.002433         1.000000  \n",
       "Month                     0.002229      0.002221         0.996468  \n",
       "Flow_Rate                 0.172575      0.174429         0.068541  \n",
       "Temperature_Le_Croci      0.125451      0.138774         0.101082  \n",
       "Rainfall_median           0.941246      0.991675         0.004961  \n",
       "Rainfall_min              0.890430      0.963146         0.003297  \n",
       "Rainfall_S_Piero          0.906942      0.957571         0.000624  \n",
       "Rainfall_Cavallina        0.920235      0.962379         0.001726  \n",
       "Rainfall_net              0.970354      1.000000         0.002433  \n",
       "Rainfall_mean             0.970354      1.000000         0.002433  \n",
       "Rainfall_S_Agata          0.924994      0.947878         0.009415  \n",
       "Rainfall_Mangona          0.943680      0.941934         0.001834  \n",
       "Year                      0.024506      0.016879         0.028911  \n",
       "Rainfall_Le_Croci         0.925179      0.959791         0.015312  \n",
       "Rainfall_max              1.000000      0.970354         0.001760  "
      ]
     },
     "execution_count": 785,
     "metadata": {},
     "output_type": "execute_result"
    }
   ],
   "source": [
    "ix = abs(lb1.corr())\n",
    "cor_sort=ix.sort_values(by ='Lake_Level', ascending=False)\n",
    "cor_sort.head(20)\n",
    "#corr= lb1.drop(['Date'], axis=1)\n",
    "#sns.heatmap(corr, annot = True)"
   ]
  },
  {
   "cell_type": "markdown",
   "metadata": {},
   "source": [
    "##### Checking the rainfall and lake level trend"
   ]
  },
  {
   "cell_type": "code",
   "execution_count": 786,
   "metadata": {},
   "outputs": [
    {
     "data": {
      "text/plain": [
       "<matplotlib.axes._subplots.AxesSubplot at 0x7febe5b10e50>"
      ]
     },
     "execution_count": 786,
     "metadata": {},
     "output_type": "execute_result"
    },
    {
     "data": {
      "image/png": "[encoded data removed]",
      "text/plain": [
       "<Figure size 720x360 with 1 Axes>"
      ]
     },
     "metadata": {
      "needs_background": "light"
     },
     "output_type": "display_data"
    }
   ],
   "source": [
    "plt.figure(figsize=(10,5))\n",
    "comp=lb1[lb1[\"Year\"].isin([2018])]\n",
    "Lake_Level_monthly_2018= comp.groupby([\"Month\"])[[\"Lake_Level\",\"Rainfall_net\"]].mean().reset_index()\n",
    "#comp1=comp[[\"Lake_Level\",\"Rainfall_net\",\"Month\"]]\n",
    "sns.lineplot(data=Lake_Level_monthly_2018, x=\"Rainfall_net\", y=\"Lake_Level\")"
   ]
  },
  {
   "cell_type": "code",
   "execution_count": 787,
   "metadata": {},
   "outputs": [
    {
     "data": {
      "image/png": "[encoded data removed]",
      "text/plain": [
       "<Figure size 432x288 with 1 Axes>"
      ]
     },
     "metadata": {
      "needs_background": "light"
     },
     "output_type": "display_data"
    }
   ],
   "source": [
    "Lake_Level_monthly= lb.groupby([\"Month\"])[['Lake_Level']].mean().reset_index()\n",
    "plt.plot( 'Month','Lake_Level', data=Lake_Level_monthly, marker='', color='blue', linewidth=2, )\n",
    "plt.legend(bbox_to_anchor=(1.04,1), loc=\"upper left\")\n",
    "plt.xticks(rotation = 90)\n",
    "plt.grid()"
   ]
  },
  {
   "cell_type": "markdown",
   "metadata": {},
   "source": [
    "##### Choosing the predictor and target variables for Supervised Machine learning model."
   ]
  },
  {
   "cell_type": "code",
   "execution_count": 788,
   "metadata": {},
   "outputs": [
    {
     "data": {
      "text/html": [
       "<div>\n",
       "<style scoped>\n",
       "    .dataframe tbody tr th:only-of-type {\n",
       "        vertical-align: middle;\n",
       "    }\n",
       "\n",
       "    .dataframe tbody tr th {\n",
       "        vertical-align: top;\n",
       "    }\n",
       "\n",
       "    .dataframe thead th {\n",
       "        text-align: right;\n",
       "    }\n",
       "</style>\n",
       "<table border=\"1\" class=\"dataframe\">\n",
       "  <thead>\n",
       "    <tr style=\"text-align: right;\">\n",
       "      <th></th>\n",
       "      <th>Year</th>\n",
       "      <th>Month</th>\n",
       "      <th>Temperature_Le_Croci</th>\n",
       "      <th>Rainfall_mean</th>\n",
       "      <th>day_of_the_year</th>\n",
       "      <th>Rainfall_median</th>\n",
       "      <th>Rainfall_net</th>\n",
       "    </tr>\n",
       "  </thead>\n",
       "  <tbody>\n",
       "    <tr>\n",
       "      <th>578</th>\n",
       "      <td>2004</td>\n",
       "      <td>2</td>\n",
       "      <td>6.50</td>\n",
       "      <td>0.00</td>\n",
       "      <td>32</td>\n",
       "      <td>0.0</td>\n",
       "      <td>0.0</td>\n",
       "    </tr>\n",
       "    <tr>\n",
       "      <th>579</th>\n",
       "      <td>2004</td>\n",
       "      <td>3</td>\n",
       "      <td>4.45</td>\n",
       "      <td>0.00</td>\n",
       "      <td>61</td>\n",
       "      <td>0.0</td>\n",
       "      <td>0.0</td>\n",
       "    </tr>\n",
       "    <tr>\n",
       "      <th>580</th>\n",
       "      <td>2004</td>\n",
       "      <td>4</td>\n",
       "      <td>2.00</td>\n",
       "      <td>0.00</td>\n",
       "      <td>92</td>\n",
       "      <td>0.0</td>\n",
       "      <td>0.0</td>\n",
       "    </tr>\n",
       "    <tr>\n",
       "      <th>581</th>\n",
       "      <td>2004</td>\n",
       "      <td>5</td>\n",
       "      <td>0.90</td>\n",
       "      <td>0.04</td>\n",
       "      <td>122</td>\n",
       "      <td>0.0</td>\n",
       "      <td>0.2</td>\n",
       "    </tr>\n",
       "    <tr>\n",
       "      <th>582</th>\n",
       "      <td>2004</td>\n",
       "      <td>6</td>\n",
       "      <td>2.25</td>\n",
       "      <td>0.00</td>\n",
       "      <td>153</td>\n",
       "      <td>0.0</td>\n",
       "      <td>0.0</td>\n",
       "    </tr>\n",
       "  </tbody>\n",
       "</table>\n",
       "</div>"
      ],
      "text/plain": [
       "     Year  Month  Temperature_Le_Croci  Rainfall_mean  day_of_the_year  \\\n",
       "578  2004      2                  6.50           0.00               32   \n",
       "579  2004      3                  4.45           0.00               61   \n",
       "580  2004      4                  2.00           0.00               92   \n",
       "581  2004      5                  0.90           0.04              122   \n",
       "582  2004      6                  2.25           0.00              153   \n",
       "\n",
       "     Rainfall_median  Rainfall_net  \n",
       "578              0.0           0.0  \n",
       "579              0.0           0.0  \n",
       "580              0.0           0.0  \n",
       "581              0.0           0.2  \n",
       "582              0.0           0.0  "
      ]
     },
     "execution_count": 788,
     "metadata": {},
     "output_type": "execute_result"
    }
   ],
   "source": [
    "X= lb1[[\"Year\",\"Month\",\"Temperature_Le_Croci\",\"Rainfall_mean\", \"day_of_the_year\",\"Rainfall_median\",\"Rainfall_net\"]]\n",
    "X.head()"
   ]
  },
  {
   "cell_type": "code",
   "execution_count": 789,
   "metadata": {},
   "outputs": [
    {
     "name": "stdout",
     "output_type": "stream",
     "text": [
      "<class 'pandas.core.frame.DataFrame'>\n",
      "Int64Index: 6025 entries, 578 to 6602\n",
      "Data columns (total 7 columns):\n",
      " #   Column                Non-Null Count  Dtype  \n",
      "---  ------                --------------  -----  \n",
      " 0   Year                  6025 non-null   int64  \n",
      " 1   Month                 6025 non-null   int64  \n",
      " 2   Temperature_Le_Croci  6025 non-null   float64\n",
      " 3   Rainfall_mean         6025 non-null   float64\n",
      " 4   day_of_the_year       6025 non-null   int64  \n",
      " 5   Rainfall_median       6025 non-null   float64\n",
      " 6   Rainfall_net          6025 non-null   float64\n",
      "dtypes: float64(4), int64(3)\n",
      "memory usage: 376.6 KB\n"
     ]
    }
   ],
   "source": [
    "X.info()"
   ]
  },
  {
   "cell_type": "code",
   "execution_count": 790,
   "metadata": {},
   "outputs": [
    {
     "data": {
      "text/html": [
       "<div>\n",
       "<style scoped>\n",
       "    .dataframe tbody tr th:only-of-type {\n",
       "        vertical-align: middle;\n",
       "    }\n",
       "\n",
       "    .dataframe tbody tr th {\n",
       "        vertical-align: top;\n",
       "    }\n",
       "\n",
       "    .dataframe thead th {\n",
       "        text-align: right;\n",
       "    }\n",
       "</style>\n",
       "<table border=\"1\" class=\"dataframe\">\n",
       "  <thead>\n",
       "    <tr style=\"text-align: right;\">\n",
       "      <th></th>\n",
       "      <th>Lake_Level</th>\n",
       "    </tr>\n",
       "  </thead>\n",
       "  <tbody>\n",
       "    <tr>\n",
       "      <th>578</th>\n",
       "      <td>251.21</td>\n",
       "    </tr>\n",
       "    <tr>\n",
       "      <th>579</th>\n",
       "      <td>251.28</td>\n",
       "    </tr>\n",
       "    <tr>\n",
       "      <th>580</th>\n",
       "      <td>251.35</td>\n",
       "    </tr>\n",
       "    <tr>\n",
       "      <th>581</th>\n",
       "      <td>251.37</td>\n",
       "    </tr>\n",
       "    <tr>\n",
       "      <th>582</th>\n",
       "      <td>251.42</td>\n",
       "    </tr>\n",
       "  </tbody>\n",
       "</table>\n",
       "</div>"
      ],
      "text/plain": [
       "     Lake_Level\n",
       "578      251.21\n",
       "579      251.28\n",
       "580      251.35\n",
       "581      251.37\n",
       "582      251.42"
      ]
     },
     "execution_count": 790,
     "metadata": {},
     "output_type": "execute_result"
    }
   ],
   "source": [
    "y=lb1[[\"Lake_Level\"]]\n",
    "y.head()"
   ]
  },
  {
   "cell_type": "code",
   "execution_count": 791,
   "metadata": {},
   "outputs": [
    {
     "name": "stdout",
     "output_type": "stream",
     "text": [
      "<class 'pandas.core.frame.DataFrame'>\n",
      "Int64Index: 6025 entries, 578 to 6602\n",
      "Data columns (total 1 columns):\n",
      " #   Column      Non-Null Count  Dtype  \n",
      "---  ------      --------------  -----  \n",
      " 0   Lake_Level  6025 non-null   float64\n",
      "dtypes: float64(1)\n",
      "memory usage: 94.1 KB\n"
     ]
    }
   ],
   "source": [
    "y.info()"
   ]
  },
  {
   "cell_type": "markdown",
   "metadata": {},
   "source": [
    "##### Linear regression for Modeling"
   ]
  },
  {
   "cell_type": "code",
   "execution_count": 792,
   "metadata": {},
   "outputs": [],
   "source": [
    "import sklearn\n",
    "from sklearn import datasets\n",
    "from sklearn.model_selection import train_test_split\n",
    "from sklearn.linear_model import LinearRegression\n",
    "from sklearn.metrics import r2_score"
   ]
  },
  {
   "cell_type": "code",
   "execution_count": 793,
   "metadata": {},
   "outputs": [],
   "source": [
    "train = lb1[~lb1['Year'].isin([2017,2018,2019,2020])]\n",
    "test = lb1[lb1['Year'].isin([2018])]\n",
    "\n",
    "X_train = train[[\"Year\",\"Month\",\"Temperature_Le_Croci\",\"Rainfall_mean\",\"Rainfall_net\",\"day_of_the_year\"]]\n",
    "y_train = train[[\"Lake_Level\"]]\n",
    "\n",
    "X_test = test[[\"Year\",\"Month\",\"Temperature_Le_Croci\",\"Rainfall_mean\", \"Rainfall_net\",\"day_of_the_year\"]]\n",
    "y_test = test[[\"Lake_Level\"]]"
   ]
  },
  {
   "cell_type": "code",
   "execution_count": 794,
   "metadata": {},
   "outputs": [],
   "source": [
    "#X_train, X_test,y_train, y_test= train_test_split(X, y, train_size=0.8 , random_state=100)\n",
    "lr= LinearRegression(normalize=True)"
   ]
  },
  {
   "cell_type": "code",
   "execution_count": 795,
   "metadata": {},
   "outputs": [
    {
     "data": {
      "text/plain": [
       "LinearRegression(copy_X=True, fit_intercept=True, n_jobs=None, normalize=True)"
      ]
     },
     "execution_count": 795,
     "metadata": {},
     "output_type": "execute_result"
    }
   ],
   "source": [
    "lr.fit(X_train,y_train)"
   ]
  },
  {
   "cell_type": "code",
   "execution_count": 796,
   "metadata": {},
   "outputs": [],
   "source": [
    "y_pred= lr.predict(X_test)"
   ]
  },
  {
   "cell_type": "markdown",
   "metadata": {},
   "source": [
    "##### Model accuracy evaluation using r_squared method"
   ]
  },
  {
   "cell_type": "code",
   "execution_count": 797,
   "metadata": {},
   "outputs": [],
   "source": [
    "r_squared = r2_score(y_test, y_pred)"
   ]
  },
  {
   "cell_type": "code",
   "execution_count": 798,
   "metadata": {},
   "outputs": [
    {
     "data": {
      "text/plain": [
       "0.11784515929958728"
      ]
     },
     "execution_count": 798,
     "metadata": {},
     "output_type": "execute_result"
    }
   ],
   "source": [
    "r_squared"
   ]
  },
  {
   "cell_type": "markdown",
   "metadata": {},
   "source": [
    "#### Random forest for Modeling for prediction"
   ]
  },
  {
   "cell_type": "code",
   "execution_count": 799,
   "metadata": {},
   "outputs": [
    {
     "name": "stderr",
     "output_type": "stream",
     "text": [
      "/Users/farazrahman/opt/anaconda3/lib/python3.7/site-packages/ipykernel_launcher.py:3: DataConversionWarning: A column-vector y was passed when a 1d array was expected. Please change the shape of y to (n_samples,), for example using ravel().\n",
      "  This is separate from the ipykernel package so we can avoid doing imports until\n"
     ]
    }
   ],
   "source": [
    "from sklearn.ensemble import RandomForestRegressor\n",
    "regr = RandomForestRegressor(max_depth=100, random_state=0)\n",
    "regr.fit(X_train, y_train)\n",
    "y_pred = regr.predict(X_test)"
   ]
  },
  {
   "cell_type": "code",
   "execution_count": 800,
   "metadata": {},
   "outputs": [
    {
     "data": {
      "text/plain": [
       "0.6959825208041049"
      ]
     },
     "execution_count": 800,
     "metadata": {},
     "output_type": "execute_result"
    }
   ],
   "source": [
    "r_squared = r2_score(y_test, y_pred)\n",
    "r_squared"
   ]
  },
  {
   "cell_type": "code",
   "execution_count": null,
   "metadata": {},
   "outputs": [],
   "source": []
  },
  {
   "cell_type": "code",
   "execution_count": null,
   "metadata": {},
   "outputs": [],
   "source": []
  },
  {
   "cell_type": "code",
   "execution_count": null,
   "metadata": {},
   "outputs": [],
   "source": []
  },
  {
   "cell_type": "code",
   "execution_count": null,
   "metadata": {},
   "outputs": [],
   "source": []
  },
  {
   "cell_type": "code",
   "execution_count": null,
   "metadata": {},
   "outputs": [],
   "source": []
  }
 ],
 "metadata": {
  "kernelspec": {
   "display_name": "Python 3",
   "language": "python",
   "name": "python3"
  },
  "language_info": {
   "codemirror_mode": {
    "name": "ipython",
    "version": 3
   },
   "file_extension": ".py",
   "mimetype": "text/x-python",
   "name": "python",
   "nbconvert_exporter": "python",
   "pygments_lexer": "ipython3",
   "version": "3.7.6"
  }
 },
 "nbformat": 4,
 "nbformat_minor": 4
}
