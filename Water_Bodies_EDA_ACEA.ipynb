{
 "cells": [
  {
   "cell_type": "markdown",
   "metadata": {},
   "source": [
    "### Objective\n",
    "\n",
    "Preserve the waterbodies (Lake, Aquifier, Water Spring, River) for efficient water supply management. To achieve this,it is important to predict the most efficient water availability, in terms of level and water flow for each day of the year."
   ]
  },
  {
   "cell_type": "code",
   "execution_count": 292,
   "metadata": {},
   "outputs": [],
   "source": [
    "import numpy as np # linear algebra\n",
    "import pandas as pd # data processing, CSV file I/O (e.g. pd.read_csv)\n",
    "import matplotlib.pyplot as plt\n",
    "import seaborn as sns\n",
    "import calendar\n",
    "from datetime import datetime as dt"
   ]
  },
  {
   "cell_type": "code",
   "execution_count": 293,
   "metadata": {},
   "outputs": [
    {
     "name": "stdout",
     "output_type": "stream",
     "text": [
      "<class 'pandas.core.frame.DataFrame'>\n",
      "RangeIndex: 6603 entries, 0 to 6602\n",
      "Data columns (total 9 columns):\n",
      " #   Column                Non-Null Count  Dtype  \n",
      "---  ------                --------------  -----  \n",
      " 0   Date                  6603 non-null   object \n",
      " 1   Rainfall_S_Piero      6026 non-null   float64\n",
      " 2   Rainfall_Mangona      6026 non-null   float64\n",
      " 3   Rainfall_S_Agata      6026 non-null   float64\n",
      " 4   Rainfall_Cavallina    6026 non-null   float64\n",
      " 5   Rainfall_Le_Croci     6026 non-null   float64\n",
      " 6   Temperature_Le_Croci  6025 non-null   float64\n",
      " 7   Lake_Level            6603 non-null   float64\n",
      " 8   Flow_Rate             6582 non-null   float64\n",
      "dtypes: float64(8), object(1)\n",
      "memory usage: 464.4+ KB\n"
     ]
    }
   ],
   "source": [
    "#Dowloading the data for Lake Bilancino \n",
    "lb= pd.read_csv('Lake_Bilancino.csv')\n",
    "lb.info()"
   ]
  },
  {
   "cell_type": "code",
   "execution_count": 294,
   "metadata": {},
   "outputs": [
    {
     "data": {
      "text/html": [
       "<div>\n",
       "<style scoped>\n",
       "    .dataframe tbody tr th:only-of-type {\n",
       "        vertical-align: middle;\n",
       "    }\n",
       "\n",
       "    .dataframe tbody tr th {\n",
       "        vertical-align: top;\n",
       "    }\n",
       "\n",
       "    .dataframe thead th {\n",
       "        text-align: right;\n",
       "    }\n",
       "</style>\n",
       "<table border=\"1\" class=\"dataframe\">\n",
       "  <thead>\n",
       "    <tr style=\"text-align: right;\">\n",
       "      <th></th>\n",
       "      <th>Rainfall_S_Piero</th>\n",
       "      <th>Rainfall_Mangona</th>\n",
       "      <th>Rainfall_S_Agata</th>\n",
       "      <th>Rainfall_Cavallina</th>\n",
       "      <th>Rainfall_Le_Croci</th>\n",
       "      <th>Temperature_Le_Croci</th>\n",
       "      <th>Lake_Level</th>\n",
       "      <th>Flow_Rate</th>\n",
       "    </tr>\n",
       "  </thead>\n",
       "  <tbody>\n",
       "    <tr>\n",
       "      <th>count</th>\n",
       "      <td>6026.000000</td>\n",
       "      <td>6026.000000</td>\n",
       "      <td>6026.000000</td>\n",
       "      <td>6026.000000</td>\n",
       "      <td>6026.000000</td>\n",
       "      <td>6025.000000</td>\n",
       "      <td>6603.000000</td>\n",
       "      <td>6582.000000</td>\n",
       "    </tr>\n",
       "    <tr>\n",
       "      <th>mean</th>\n",
       "      <td>2.471225</td>\n",
       "      <td>3.340657</td>\n",
       "      <td>2.670063</td>\n",
       "      <td>2.674743</td>\n",
       "      <td>3.129871</td>\n",
       "      <td>14.530141</td>\n",
       "      <td>249.564091</td>\n",
       "      <td>2.760968</td>\n",
       "    </tr>\n",
       "    <tr>\n",
       "      <th>std</th>\n",
       "      <td>6.650012</td>\n",
       "      <td>8.903134</td>\n",
       "      <td>7.166643</td>\n",
       "      <td>7.655847</td>\n",
       "      <td>8.025121</td>\n",
       "      <td>6.944029</td>\n",
       "      <td>2.172558</td>\n",
       "      <td>4.073428</td>\n",
       "    </tr>\n",
       "    <tr>\n",
       "      <th>min</th>\n",
       "      <td>0.000000</td>\n",
       "      <td>0.000000</td>\n",
       "      <td>0.000000</td>\n",
       "      <td>0.000000</td>\n",
       "      <td>0.000000</td>\n",
       "      <td>-5.350000</td>\n",
       "      <td>243.530000</td>\n",
       "      <td>0.310000</td>\n",
       "    </tr>\n",
       "    <tr>\n",
       "      <th>25%</th>\n",
       "      <td>0.000000</td>\n",
       "      <td>0.000000</td>\n",
       "      <td>0.000000</td>\n",
       "      <td>0.000000</td>\n",
       "      <td>0.000000</td>\n",
       "      <td>9.000000</td>\n",
       "      <td>248.000000</td>\n",
       "      <td>0.600000</td>\n",
       "    </tr>\n",
       "    <tr>\n",
       "      <th>50%</th>\n",
       "      <td>0.000000</td>\n",
       "      <td>0.000000</td>\n",
       "      <td>0.000000</td>\n",
       "      <td>0.000000</td>\n",
       "      <td>0.000000</td>\n",
       "      <td>14.500000</td>\n",
       "      <td>250.200000</td>\n",
       "      <td>1.500000</td>\n",
       "    </tr>\n",
       "    <tr>\n",
       "      <th>75%</th>\n",
       "      <td>0.800000</td>\n",
       "      <td>1.400000</td>\n",
       "      <td>1.200000</td>\n",
       "      <td>0.600000</td>\n",
       "      <td>1.200000</td>\n",
       "      <td>20.100000</td>\n",
       "      <td>251.400000</td>\n",
       "      <td>3.000000</td>\n",
       "    </tr>\n",
       "    <tr>\n",
       "      <th>max</th>\n",
       "      <td>80.600000</td>\n",
       "      <td>110.000000</td>\n",
       "      <td>120.200000</td>\n",
       "      <td>113.600000</td>\n",
       "      <td>88.400000</td>\n",
       "      <td>34.000000</td>\n",
       "      <td>252.760000</td>\n",
       "      <td>74.650000</td>\n",
       "    </tr>\n",
       "  </tbody>\n",
       "</table>\n",
       "</div>"
      ],
      "text/plain": [
       "       Rainfall_S_Piero  Rainfall_Mangona  Rainfall_S_Agata  \\\n",
       "count       6026.000000       6026.000000       6026.000000   \n",
       "mean           2.471225          3.340657          2.670063   \n",
       "std            6.650012          8.903134          7.166643   \n",
       "min            0.000000          0.000000          0.000000   \n",
       "25%            0.000000          0.000000          0.000000   \n",
       "50%            0.000000          0.000000          0.000000   \n",
       "75%            0.800000          1.400000          1.200000   \n",
       "max           80.600000        110.000000        120.200000   \n",
       "\n",
       "       Rainfall_Cavallina  Rainfall_Le_Croci  Temperature_Le_Croci  \\\n",
       "count         6026.000000        6026.000000           6025.000000   \n",
       "mean             2.674743           3.129871             14.530141   \n",
       "std              7.655847           8.025121              6.944029   \n",
       "min              0.000000           0.000000             -5.350000   \n",
       "25%              0.000000           0.000000              9.000000   \n",
       "50%              0.000000           0.000000             14.500000   \n",
       "75%              0.600000           1.200000             20.100000   \n",
       "max            113.600000          88.400000             34.000000   \n",
       "\n",
       "        Lake_Level    Flow_Rate  \n",
       "count  6603.000000  6582.000000  \n",
       "mean    249.564091     2.760968  \n",
       "std       2.172558     4.073428  \n",
       "min     243.530000     0.310000  \n",
       "25%     248.000000     0.600000  \n",
       "50%     250.200000     1.500000  \n",
       "75%     251.400000     3.000000  \n",
       "max     252.760000    74.650000  "
      ]
     },
     "execution_count": 294,
     "metadata": {},
     "output_type": "execute_result"
    }
   ],
   "source": [
    "lb.describe()"
   ]
  },
  {
   "cell_type": "code",
   "execution_count": 295,
   "metadata": {},
   "outputs": [
    {
     "data": {
      "text/plain": [
       "Index(['Date', 'Rainfall_S_Piero', 'Rainfall_Mangona', 'Rainfall_S_Agata',\n",
       "       'Rainfall_Cavallina', 'Rainfall_Le_Croci', 'Temperature_Le_Croci',\n",
       "       'Lake_Level', 'Flow_Rate'],\n",
       "      dtype='object')"
      ]
     },
     "execution_count": 295,
     "metadata": {},
     "output_type": "execute_result"
    }
   ],
   "source": [
    "#Checking the columns\n",
    "lb.columns"
   ]
  },
  {
   "cell_type": "code",
   "execution_count": 296,
   "metadata": {},
   "outputs": [
    {
     "data": {
      "text/html": [
       "<div>\n",
       "<style scoped>\n",
       "    .dataframe tbody tr th:only-of-type {\n",
       "        vertical-align: middle;\n",
       "    }\n",
       "\n",
       "    .dataframe tbody tr th {\n",
       "        vertical-align: top;\n",
       "    }\n",
       "\n",
       "    .dataframe thead th {\n",
       "        text-align: right;\n",
       "    }\n",
       "</style>\n",
       "<table border=\"1\" class=\"dataframe\">\n",
       "  <thead>\n",
       "    <tr style=\"text-align: right;\">\n",
       "      <th></th>\n",
       "      <th>Date</th>\n",
       "      <th>Rainfall_S_Piero</th>\n",
       "      <th>Rainfall_Mangona</th>\n",
       "      <th>Rainfall_S_Agata</th>\n",
       "      <th>Rainfall_Cavallina</th>\n",
       "      <th>Rainfall_Le_Croci</th>\n",
       "      <th>Temperature_Le_Croci</th>\n",
       "      <th>Lake_Level</th>\n",
       "      <th>Flow_Rate</th>\n",
       "    </tr>\n",
       "  </thead>\n",
       "  <tbody>\n",
       "    <tr>\n",
       "      <th>6598</th>\n",
       "      <td>26/06/2020</td>\n",
       "      <td>0.0</td>\n",
       "      <td>0.0</td>\n",
       "      <td>0.0</td>\n",
       "      <td>0.0</td>\n",
       "      <td>0.0</td>\n",
       "      <td>22.50</td>\n",
       "      <td>250.85</td>\n",
       "      <td>0.6</td>\n",
       "    </tr>\n",
       "    <tr>\n",
       "      <th>6599</th>\n",
       "      <td>27/06/2020</td>\n",
       "      <td>0.0</td>\n",
       "      <td>0.0</td>\n",
       "      <td>0.0</td>\n",
       "      <td>0.0</td>\n",
       "      <td>0.0</td>\n",
       "      <td>23.40</td>\n",
       "      <td>250.84</td>\n",
       "      <td>0.6</td>\n",
       "    </tr>\n",
       "    <tr>\n",
       "      <th>6600</th>\n",
       "      <td>28/06/2020</td>\n",
       "      <td>0.0</td>\n",
       "      <td>0.0</td>\n",
       "      <td>0.0</td>\n",
       "      <td>0.0</td>\n",
       "      <td>0.0</td>\n",
       "      <td>21.50</td>\n",
       "      <td>250.83</td>\n",
       "      <td>0.6</td>\n",
       "    </tr>\n",
       "    <tr>\n",
       "      <th>6601</th>\n",
       "      <td>29/06/2020</td>\n",
       "      <td>0.0</td>\n",
       "      <td>0.0</td>\n",
       "      <td>0.0</td>\n",
       "      <td>0.0</td>\n",
       "      <td>0.0</td>\n",
       "      <td>23.20</td>\n",
       "      <td>250.82</td>\n",
       "      <td>0.6</td>\n",
       "    </tr>\n",
       "    <tr>\n",
       "      <th>6602</th>\n",
       "      <td>30/06/2020</td>\n",
       "      <td>0.0</td>\n",
       "      <td>0.0</td>\n",
       "      <td>0.0</td>\n",
       "      <td>0.0</td>\n",
       "      <td>0.0</td>\n",
       "      <td>22.75</td>\n",
       "      <td>250.80</td>\n",
       "      <td>0.6</td>\n",
       "    </tr>\n",
       "  </tbody>\n",
       "</table>\n",
       "</div>"
      ],
      "text/plain": [
       "            Date  Rainfall_S_Piero  Rainfall_Mangona  Rainfall_S_Agata  \\\n",
       "6598  26/06/2020               0.0               0.0               0.0   \n",
       "6599  27/06/2020               0.0               0.0               0.0   \n",
       "6600  28/06/2020               0.0               0.0               0.0   \n",
       "6601  29/06/2020               0.0               0.0               0.0   \n",
       "6602  30/06/2020               0.0               0.0               0.0   \n",
       "\n",
       "      Rainfall_Cavallina  Rainfall_Le_Croci  Temperature_Le_Croci  Lake_Level  \\\n",
       "6598                 0.0                0.0                 22.50      250.85   \n",
       "6599                 0.0                0.0                 23.40      250.84   \n",
       "6600                 0.0                0.0                 21.50      250.83   \n",
       "6601                 0.0                0.0                 23.20      250.82   \n",
       "6602                 0.0                0.0                 22.75      250.80   \n",
       "\n",
       "      Flow_Rate  \n",
       "6598        0.6  \n",
       "6599        0.6  \n",
       "6600        0.6  \n",
       "6601        0.6  \n",
       "6602        0.6  "
      ]
     },
     "execution_count": 296,
     "metadata": {},
     "output_type": "execute_result"
    }
   ],
   "source": [
    "#Checking data of Lake Bilancino\n",
    "lb.tail()"
   ]
  },
  {
   "cell_type": "markdown",
   "metadata": {},
   "source": [
    "### Dataset features provided\n",
    "\n",
    "The features provided are Rain fall, Temperature, Lake level, Flow Rate\n",
    "\n",
    "Output expected Predicted Lake Level and Flow rate.\n",
    "\n",
    "### Tentative Analysis approach\n",
    "\n",
    "1) Plot unfiltered data to see trend->Check the Corelation->Use ML Models to predict flow & Level of lake -> fine tune the model to improve the accuracy.\n",
    "\n",
    "2) Plot unfiltered data to see trend->Check the Corelation->Use features to build a mathematical model to predict flow & Level of lake -> fine tune the model to improve the accuracy"
   ]
  },
  {
   "cell_type": "code",
   "execution_count": 297,
   "metadata": {},
   "outputs": [
    {
     "name": "stdout",
     "output_type": "stream",
     "text": [
      "<class 'pandas.core.frame.DataFrame'>\n",
      "RangeIndex: 6603 entries, 0 to 6602\n",
      "Data columns (total 11 columns):\n",
      " #   Column                Non-Null Count  Dtype         \n",
      "---  ------                --------------  -----         \n",
      " 0   Date                  6603 non-null   datetime64[ns]\n",
      " 1   Rainfall_S_Piero      6026 non-null   float64       \n",
      " 2   Rainfall_Mangona      6026 non-null   float64       \n",
      " 3   Rainfall_S_Agata      6026 non-null   float64       \n",
      " 4   Rainfall_Cavallina    6026 non-null   float64       \n",
      " 5   Rainfall_Le_Croci     6026 non-null   float64       \n",
      " 6   Temperature_Le_Croci  6025 non-null   float64       \n",
      " 7   Lake_Level            6603 non-null   float64       \n",
      " 8   Flow_Rate             6582 non-null   float64       \n",
      " 9   Year                  6603 non-null   int64         \n",
      " 10  Month                 6603 non-null   int64         \n",
      "dtypes: datetime64[ns](1), float64(8), int64(2)\n",
      "memory usage: 567.6 KB\n"
     ]
    }
   ],
   "source": [
    "# Handling date data type\n",
    "lb['Date']= pd.to_datetime(lb['Date'])\n",
    "lb['Year']= lb['Date'].dt.year\n",
    "lb['Month']=lb['Date'].dt.month\n",
    "lb.info()\n"
   ]
  },
  {
   "cell_type": "code",
   "execution_count": 298,
   "metadata": {},
   "outputs": [
    {
     "data": {
      "text/html": [
       "<div>\n",
       "<style scoped>\n",
       "    .dataframe tbody tr th:only-of-type {\n",
       "        vertical-align: middle;\n",
       "    }\n",
       "\n",
       "    .dataframe tbody tr th {\n",
       "        vertical-align: top;\n",
       "    }\n",
       "\n",
       "    .dataframe thead th {\n",
       "        text-align: right;\n",
       "    }\n",
       "</style>\n",
       "<table border=\"1\" class=\"dataframe\">\n",
       "  <thead>\n",
       "    <tr style=\"text-align: right;\">\n",
       "      <th></th>\n",
       "      <th>Date</th>\n",
       "      <th>Rainfall_S_Piero</th>\n",
       "      <th>Rainfall_Mangona</th>\n",
       "      <th>Rainfall_S_Agata</th>\n",
       "      <th>Rainfall_Cavallina</th>\n",
       "      <th>Rainfall_Le_Croci</th>\n",
       "      <th>Temperature_Le_Croci</th>\n",
       "      <th>Lake_Level</th>\n",
       "      <th>Flow_Rate</th>\n",
       "      <th>Year</th>\n",
       "      <th>Month</th>\n",
       "    </tr>\n",
       "  </thead>\n",
       "  <tbody>\n",
       "    <tr>\n",
       "      <th>0</th>\n",
       "      <td>2002-03-06</td>\n",
       "      <td>NaN</td>\n",
       "      <td>NaN</td>\n",
       "      <td>NaN</td>\n",
       "      <td>NaN</td>\n",
       "      <td>NaN</td>\n",
       "      <td>NaN</td>\n",
       "      <td>249.43</td>\n",
       "      <td>0.31</td>\n",
       "      <td>2002</td>\n",
       "      <td>3</td>\n",
       "    </tr>\n",
       "    <tr>\n",
       "      <th>1</th>\n",
       "      <td>2002-04-06</td>\n",
       "      <td>NaN</td>\n",
       "      <td>NaN</td>\n",
       "      <td>NaN</td>\n",
       "      <td>NaN</td>\n",
       "      <td>NaN</td>\n",
       "      <td>NaN</td>\n",
       "      <td>249.43</td>\n",
       "      <td>0.31</td>\n",
       "      <td>2002</td>\n",
       "      <td>4</td>\n",
       "    </tr>\n",
       "    <tr>\n",
       "      <th>2</th>\n",
       "      <td>2002-05-06</td>\n",
       "      <td>NaN</td>\n",
       "      <td>NaN</td>\n",
       "      <td>NaN</td>\n",
       "      <td>NaN</td>\n",
       "      <td>NaN</td>\n",
       "      <td>NaN</td>\n",
       "      <td>249.43</td>\n",
       "      <td>0.31</td>\n",
       "      <td>2002</td>\n",
       "      <td>5</td>\n",
       "    </tr>\n",
       "    <tr>\n",
       "      <th>3</th>\n",
       "      <td>2002-06-06</td>\n",
       "      <td>NaN</td>\n",
       "      <td>NaN</td>\n",
       "      <td>NaN</td>\n",
       "      <td>NaN</td>\n",
       "      <td>NaN</td>\n",
       "      <td>NaN</td>\n",
       "      <td>249.43</td>\n",
       "      <td>0.31</td>\n",
       "      <td>2002</td>\n",
       "      <td>6</td>\n",
       "    </tr>\n",
       "    <tr>\n",
       "      <th>4</th>\n",
       "      <td>2002-07-06</td>\n",
       "      <td>NaN</td>\n",
       "      <td>NaN</td>\n",
       "      <td>NaN</td>\n",
       "      <td>NaN</td>\n",
       "      <td>NaN</td>\n",
       "      <td>NaN</td>\n",
       "      <td>249.44</td>\n",
       "      <td>0.31</td>\n",
       "      <td>2002</td>\n",
       "      <td>7</td>\n",
       "    </tr>\n",
       "  </tbody>\n",
       "</table>\n",
       "</div>"
      ],
      "text/plain": [
       "        Date  Rainfall_S_Piero  Rainfall_Mangona  Rainfall_S_Agata  \\\n",
       "0 2002-03-06               NaN               NaN               NaN   \n",
       "1 2002-04-06               NaN               NaN               NaN   \n",
       "2 2002-05-06               NaN               NaN               NaN   \n",
       "3 2002-06-06               NaN               NaN               NaN   \n",
       "4 2002-07-06               NaN               NaN               NaN   \n",
       "\n",
       "   Rainfall_Cavallina  Rainfall_Le_Croci  Temperature_Le_Croci  Lake_Level  \\\n",
       "0                 NaN                NaN                   NaN      249.43   \n",
       "1                 NaN                NaN                   NaN      249.43   \n",
       "2                 NaN                NaN                   NaN      249.43   \n",
       "3                 NaN                NaN                   NaN      249.43   \n",
       "4                 NaN                NaN                   NaN      249.44   \n",
       "\n",
       "   Flow_Rate  Year  Month  \n",
       "0       0.31  2002      3  \n",
       "1       0.31  2002      4  \n",
       "2       0.31  2002      5  \n",
       "3       0.31  2002      6  \n",
       "4       0.31  2002      7  "
      ]
     },
     "execution_count": 298,
     "metadata": {},
     "output_type": "execute_result"
    }
   ],
   "source": [
    "lb.head()"
   ]
  },
  {
   "cell_type": "markdown",
   "metadata": {},
   "source": [
    "##### Lake level data grouping by year and months"
   ]
  },
  {
   "cell_type": "code",
   "execution_count": 299,
   "metadata": {},
   "outputs": [
    {
     "data": {
      "text/html": [
       "<div>\n",
       "<style scoped>\n",
       "    .dataframe tbody tr th:only-of-type {\n",
       "        vertical-align: middle;\n",
       "    }\n",
       "\n",
       "    .dataframe tbody tr th {\n",
       "        vertical-align: top;\n",
       "    }\n",
       "\n",
       "    .dataframe thead th {\n",
       "        text-align: right;\n",
       "    }\n",
       "</style>\n",
       "<table border=\"1\" class=\"dataframe\">\n",
       "  <thead>\n",
       "    <tr style=\"text-align: right;\">\n",
       "      <th></th>\n",
       "      <th>Year</th>\n",
       "      <th>Month</th>\n",
       "      <th>Lake_Level</th>\n",
       "    </tr>\n",
       "  </thead>\n",
       "  <tbody>\n",
       "    <tr>\n",
       "      <th>0</th>\n",
       "      <td>2002</td>\n",
       "      <td>1</td>\n",
       "      <td>249.158333</td>\n",
       "    </tr>\n",
       "    <tr>\n",
       "      <th>1</th>\n",
       "      <td>2002</td>\n",
       "      <td>2</td>\n",
       "      <td>249.143333</td>\n",
       "    </tr>\n",
       "    <tr>\n",
       "      <th>2</th>\n",
       "      <td>2002</td>\n",
       "      <td>3</td>\n",
       "      <td>249.172857</td>\n",
       "    </tr>\n",
       "    <tr>\n",
       "      <th>3</th>\n",
       "      <td>2002</td>\n",
       "      <td>4</td>\n",
       "      <td>249.148571</td>\n",
       "    </tr>\n",
       "    <tr>\n",
       "      <th>4</th>\n",
       "      <td>2002</td>\n",
       "      <td>5</td>\n",
       "      <td>249.130000</td>\n",
       "    </tr>\n",
       "  </tbody>\n",
       "</table>\n",
       "</div>"
      ],
      "text/plain": [
       "   Year  Month  Lake_Level\n",
       "0  2002      1  249.158333\n",
       "1  2002      2  249.143333\n",
       "2  2002      3  249.172857\n",
       "3  2002      4  249.148571\n",
       "4  2002      5  249.130000"
      ]
     },
     "execution_count": 299,
     "metadata": {},
     "output_type": "execute_result"
    }
   ],
   "source": [
    "Lake_level= lb.groupby([\"Year\", \"Month\"]).Lake_Level.mean().reset_index()\n",
    "Lake_level.head()"
   ]
  },
  {
   "cell_type": "markdown",
   "metadata": {},
   "source": [
    "##### plotting the lake level over the TS to see the variation over year"
   ]
  },
  {
   "cell_type": "code",
   "execution_count": 300,
   "metadata": {},
   "outputs": [
    {
     "data": {
      "text/plain": [
       "<matplotlib.axes._subplots.AxesSubplot at 0x7fec19598590>"
      ]
     },
     "execution_count": 300,
     "metadata": {},
     "output_type": "execute_result"
    },
    {
     "data": {
      "image/png": "[encoded data removed]",
      "text/plain": [
       "<Figure size 432x288 with 1 Axes>"
      ]
     },
     "metadata": {
      "needs_background": "light"
     },
     "output_type": "display_data"
    }
   ],
   "source": [
    "sns.lineplot(data=Lake_level, x=\"Year\", y=\"Lake_Level\")"
   ]
  },
  {
   "cell_type": "markdown",
   "metadata": {},
   "source": [
    "Minimum Lake level according to the data was 244.52 in 2012 October"
   ]
  },
  {
   "cell_type": "code",
   "execution_count": 301,
   "metadata": {},
   "outputs": [
    {
     "name": "stdout",
     "output_type": "stream",
     "text": [
      "     Year  Month  Lake_Level\n",
      "129  2012     10  244.520645\n"
     ]
    }
   ],
   "source": [
    "print(Lake_level[Lake_level.Lake_Level==Lake_level.Lake_Level.min()])"
   ]
  },
  {
   "cell_type": "markdown",
   "metadata": {},
   "source": [
    "Maximum Lake level reached according to historic data was 251.58 in March 2010"
   ]
  },
  {
   "cell_type": "code",
   "execution_count": 302,
   "metadata": {},
   "outputs": [
    {
     "name": "stdout",
     "output_type": "stream",
     "text": [
      "    Year  Month  Lake_Level\n",
      "98  2010      3  251.582258\n"
     ]
    }
   ],
   "source": [
    "\n",
    "print(Lake_level[Lake_level.Lake_Level==Lake_level.Lake_Level.max()])"
   ]
  },
  {
   "cell_type": "code",
   "execution_count": 303,
   "metadata": {},
   "outputs": [
    {
     "data": {
      "text/plain": [
       "<matplotlib.axes._subplots.AxesSubplot at 0x7febe9a66790>"
      ]
     },
     "execution_count": 303,
     "metadata": {},
     "output_type": "execute_result"
    },
    {
     "data": {
      "image/png": "[encoded data removed]",
      "text/plain": [
       "<Figure size 432x288 with 1 Axes>"
      ]
     },
     "metadata": {
      "needs_background": "light"
     },
     "output_type": "display_data"
    }
   ],
   "source": [
    "#plotting the lake level over the TS to see the variation over month\n",
    "sns.lineplot(data=Lake_level, x=\"Month\", y=\"Lake_Level\")"
   ]
  },
  {
   "cell_type": "markdown",
   "metadata": {},
   "source": [
    "#### Checking the flow rate over Months and Years"
   ]
  },
  {
   "cell_type": "code",
   "execution_count": 304,
   "metadata": {},
   "outputs": [
    {
     "data": {
      "text/html": [
       "<div>\n",
       "<style scoped>\n",
       "    .dataframe tbody tr th:only-of-type {\n",
       "        vertical-align: middle;\n",
       "    }\n",
       "\n",
       "    .dataframe tbody tr th {\n",
       "        vertical-align: top;\n",
       "    }\n",
       "\n",
       "    .dataframe thead th {\n",
       "        text-align: right;\n",
       "    }\n",
       "</style>\n",
       "<table border=\"1\" class=\"dataframe\">\n",
       "  <thead>\n",
       "    <tr style=\"text-align: right;\">\n",
       "      <th></th>\n",
       "      <th>Year</th>\n",
       "      <th>Month</th>\n",
       "      <th>Flow_Rate</th>\n",
       "    </tr>\n",
       "  </thead>\n",
       "  <tbody>\n",
       "    <tr>\n",
       "      <th>0</th>\n",
       "      <td>2002</td>\n",
       "      <td>1</td>\n",
       "      <td>1.180000</td>\n",
       "    </tr>\n",
       "    <tr>\n",
       "      <th>1</th>\n",
       "      <td>2002</td>\n",
       "      <td>2</td>\n",
       "      <td>2.216667</td>\n",
       "    </tr>\n",
       "    <tr>\n",
       "      <th>2</th>\n",
       "      <td>2002</td>\n",
       "      <td>3</td>\n",
       "      <td>2.315714</td>\n",
       "    </tr>\n",
       "    <tr>\n",
       "      <th>3</th>\n",
       "      <td>2002</td>\n",
       "      <td>4</td>\n",
       "      <td>2.001429</td>\n",
       "    </tr>\n",
       "    <tr>\n",
       "      <th>4</th>\n",
       "      <td>2002</td>\n",
       "      <td>5</td>\n",
       "      <td>2.072857</td>\n",
       "    </tr>\n",
       "  </tbody>\n",
       "</table>\n",
       "</div>"
      ],
      "text/plain": [
       "   Year  Month  Flow_Rate\n",
       "0  2002      1   1.180000\n",
       "1  2002      2   2.216667\n",
       "2  2002      3   2.315714\n",
       "3  2002      4   2.001429\n",
       "4  2002      5   2.072857"
      ]
     },
     "execution_count": 304,
     "metadata": {},
     "output_type": "execute_result"
    }
   ],
   "source": [
    "flow_rate= lb.groupby([\"Year\",\"Month\"]).Flow_Rate.mean().reset_index()\n",
    "flow_rate.head()"
   ]
  },
  {
   "cell_type": "code",
   "execution_count": null,
   "metadata": {},
   "outputs": [
    {
     "data": {
      "text/plain": [
       "<matplotlib.axes._subplots.AxesSubplot at 0x7febe9af8490>"
      ]
     },
     "execution_count": 305,
     "metadata": {},
     "output_type": "execute_result"
    }
   ],
   "source": [
    "#Plotting the flow rate over the years (2002-2020)\n",
    "sns.lineplot(data=flow_rate,x=\"Year\",y= \"Flow_Rate\")"
   ]
  },
  {
   "cell_type": "code",
   "execution_count": null,
   "metadata": {},
   "outputs": [],
   "source": [
    "#Plotting the flow rate over the Months accross the years (2002-2020)\n",
    "sns.lineplot(data=flow_rate,x=\"Month\",y= \"Flow_Rate\")"
   ]
  },
  {
   "cell_type": "markdown",
   "metadata": {},
   "source": [
    "#####  Finding the Month and year with extreme flow rate data"
   ]
  },
  {
   "cell_type": "code",
   "execution_count": null,
   "metadata": {},
   "outputs": [],
   "source": [
    "print(flow_rate[flow_rate.Flow_Rate==flow_rate.Flow_Rate.min()])\n",
    "\n",
    "print(flow_rate[flow_rate.Flow_Rate==flow_rate.Flow_Rate.max()])\n"
   ]
  },
  {
   "cell_type": "markdown",
   "metadata": {},
   "source": [
    "Flow rate was minimum during May-2012 and Maximum during March 2013"
   ]
  },
  {
   "cell_type": "markdown",
   "metadata": {},
   "source": [
    "#### Rain fall and Temperature Variation over Month & year"
   ]
  },
  {
   "cell_type": "code",
   "execution_count": null,
   "metadata": {},
   "outputs": [],
   "source": [
    "# Rain ditribution over the year\n",
    "rain_yearly= lb.groupby([\"Year\"])[['Rainfall_S_Piero', 'Rainfall_Mangona', 'Rainfall_S_Agata','Rainfall_Cavallina','Rainfall_Le_Croci']].mean().reset_index()\n",
    "rain_yearly.head()"
   ]
  },
  {
   "cell_type": "markdown",
   "metadata": {},
   "source": [
    "##### Plotting the rain pattern over the years"
   ]
  },
  {
   "cell_type": "code",
   "execution_count": null,
   "metadata": {},
   "outputs": [],
   "source": [
    "plt.plot( 'Year', 'Rainfall_S_Piero', data=rain_yearly, marker='', color='blue', linewidth=2)\n",
    "plt.plot( 'Year', 'Rainfall_Mangona', data=rain_yearly, marker='', color='red', linewidth=2)\n",
    "plt.plot( 'Year', 'Rainfall_S_Agata', data=rain_yearly, marker='', color='yellow', linewidth=2)\n",
    "plt.plot( 'Year', 'Rainfall_Cavallina', data=rain_yearly, marker='', color='black', linewidth=2)\n",
    "plt.plot( 'Year', 'Rainfall_Le_Croci', data=rain_yearly, marker='', color='olive', linewidth=2)\n",
    "plt.legend(bbox_to_anchor=(1.04,1), loc=\"upper left\")\n",
    "plt.xticks(rotation = 90)\n",
    "plt.grid()"
   ]
  },
  {
   "cell_type": "code",
   "execution_count": null,
   "metadata": {},
   "outputs": [],
   "source": [
    "#Rain distribution over the Months\n",
    "rain_monthly= lb.groupby([\"Month\"])[['Rainfall_S_Piero', 'Rainfall_Mangona', 'Rainfall_S_Agata','Rainfall_Cavallina','Rainfall_Le_Croci']].mean().reset_index()\n",
    "rain_monthly.head()"
   ]
  },
  {
   "cell_type": "code",
   "execution_count": null,
   "metadata": {},
   "outputs": [],
   "source": [
    "plt.plot( 'Month', 'Rainfall_S_Piero', data=rain_monthly, marker='', color='blue', linewidth=2)\n",
    "plt.plot( 'Month', 'Rainfall_Mangona', data=rain_monthly, marker='', color='red', linewidth=2)\n",
    "plt.plot( 'Month', 'Rainfall_S_Agata', data=rain_monthly, marker='', color='yellow', linewidth=2)\n",
    "plt.plot( 'Month', 'Rainfall_Cavallina', data=rain_monthly, marker='', color='black', linewidth=2)\n",
    "plt.plot( 'Month', 'Rainfall_Le_Croci', data=rain_monthly, marker='', color='olive', linewidth=2)\n",
    "plt.legend(bbox_to_anchor=(1.04,1), loc=\"upper left\")\n",
    "plt.xticks(rotation = 90)\n",
    "plt.grid()"
   ]
  },
  {
   "cell_type": "markdown",
   "metadata": {},
   "source": [
    "#### Observation about Rain data:\n",
    "\n",
    "The above plot shows Mangona recieves the maximum rain and S_Piero recieves the minimum over the months in a year.\n",
    "July to August period is the relatively dry period where there is consistent minimum rain.\n",
    "September to February is the time when its raining to a decent level."
   ]
  },
  {
   "cell_type": "markdown",
   "metadata": {},
   "source": [
    "##### Analyzing Temperatrure data"
   ]
  },
  {
   "cell_type": "code",
   "execution_count": null,
   "metadata": {},
   "outputs": [],
   "source": [
    "temperature=lb.groupby([\"Year\",\"Month\"]).Temperature_Le_Croci.mean().reset_index()\n",
    "temperature.head()"
   ]
  },
  {
   "cell_type": "code",
   "execution_count": null,
   "metadata": {},
   "outputs": [],
   "source": [
    "# Plotting the temperature pattern over the Year and Months\n",
    "temperature[\"Year\"]=temperature[\"Year\"].astype(str)\n",
    "sns.lineplot(data=temperature, x=\"Month\", y=\"Temperature_Le_Croci\", hue=\"Year\")"
   ]
  },
  {
   "cell_type": "markdown",
   "metadata": {},
   "source": [
    "#### Obseravtion about Temperature data:\n",
    "Temperature gradually increases from January and reches to peak during June to August and gradually decreases to minimum in January."
   ]
  },
  {
   "cell_type": "code",
   "execution_count": null,
   "metadata": {},
   "outputs": [],
   "source": [
    "#Counting the Null value in Rain fall columns\n",
    "lb[['Rainfall_S_Piero','Rainfall_Mangona', 'Rainfall_S_Agata','Rainfall_Cavallina','Rainfall_Le_Croci']].isnull().sum()"
   ]
  },
  {
   "cell_type": "code",
   "execution_count": null,
   "metadata": {},
   "outputs": [],
   "source": [
    "# Dropping the rows with missing Rainfall values from Le_Croci\n",
    "lb1=lb.dropna(subset=[\"Rainfall_Le_Croci\",\"Temperature_Le_Croci\"])\n",
    "lb1.info()"
   ]
  },
  {
   "cell_type": "markdown",
   "metadata": {},
   "source": [
    "#### Data Preparation for Model building:"
   ]
  },
  {
   "cell_type": "code",
   "execution_count": null,
   "metadata": {},
   "outputs": [],
   "source": [
    "lb1['Rainfall_mean']=lb1[['Rainfall_S_Piero','Rainfall_Mangona', 'Rainfall_S_Agata','Rainfall_Cavallina','Rainfall_Le_Croci']].mean(axis = 1)\n",
    "#lb1['Rainfall_mean']=lb1.apply(lambda row:(row.Rainfall_S_Piero+ row.Rainfall_Mangona+row.Rainfall_S_Agata+row.Rainfall_Cavallina+row.Rainfall_Le_Croci)/5,axis=1)\n",
    "lb1['Rainfall_median']=lb1[['Rainfall_S_Piero','Rainfall_Mangona', 'Rainfall_S_Agata','Rainfall_Cavallina','Rainfall_Le_Croci']].median(axis = 1)\n",
    "lb1['Rainfall_min']=lb1[['Rainfall_S_Piero','Rainfall_Mangona', 'Rainfall_S_Agata','Rainfall_Cavallina','Rainfall_Le_Croci']].min(axis = 1)\n",
    "lb1['Rainfall_max']=lb1[['Rainfall_S_Piero','Rainfall_Mangona', 'Rainfall_S_Agata','Rainfall_Cavallina','Rainfall_Le_Croci']].max(axis = 1)\n",
    "lb1['Rainfall_net']=lb1[['Rainfall_S_Piero','Rainfall_Mangona', 'Rainfall_S_Agata','Rainfall_Cavallina','Rainfall_Le_Croci']].sum(axis = 1)\n",
    "lb1.head()"
   ]
  },
  {
   "cell_type": "code",
   "execution_count": null,
   "metadata": {},
   "outputs": [],
   "source": [
    "lb1['day_of_the_year'] = lb1['Date'].dt.dayofyear"
   ]
  },
  {
   "cell_type": "markdown",
   "metadata": {},
   "source": [
    "#### Heat map for checking the corelation between original & derived variables"
   ]
  },
  {
   "cell_type": "code",
   "execution_count": null,
   "metadata": {},
   "outputs": [],
   "source": [
    "lb1.info()"
   ]
  },
  {
   "cell_type": "code",
   "execution_count": null,
   "metadata": {},
   "outputs": [],
   "source": [
    "plt.figure(figsize=(40,40))\n",
    "#corr= lb1.drop(['Date'], axis=1)\n",
    "#sns.heatmap(corr, annot = True)"
   ]
  },
  {
   "cell_type": "markdown",
   "metadata": {},
   "source": [
    "##### Checking the rainfall and lake level trend"
   ]
  },
  {
   "cell_type": "code",
   "execution_count": null,
   "metadata": {},
   "outputs": [],
   "source": [
    "comp=lb1[lb1[\"Year\"].isin([2018])]\n",
    "comp1=comp[[\"Lake_Level\",\"Rainfall_net\",\"Month\"]]\n",
    "sns.lineplot(data=comp1, x=\"Rainfall_net\", y=\"Lake_Level\")"
   ]
  },
  {
   "cell_type": "code",
   "execution_count": null,
   "metadata": {},
   "outputs": [],
   "source": [
    "plt.plot( 'Month','Lake_Level', data=comp1, marker='', color='blue', linewidth=2)\n",
    "#plt.plot( 'Month','Rainfall_mean', data=comp1, marker='', color='red', linewidth=2)\n",
    "plt.legend(bbox_to_anchor=(1.04,1), loc=\"upper left\")\n",
    "plt.xticks(rotation = 90)\n",
    "plt.grid()"
   ]
  },
  {
   "cell_type": "markdown",
   "metadata": {},
   "source": [
    "##### Choosing the predictor and target variables for Supervised Machine learning model."
   ]
  },
  {
   "cell_type": "code",
   "execution_count": null,
   "metadata": {},
   "outputs": [],
   "source": [
    "X= lb1[[\"Year\",\"Month\",\"Temperature_Le_Croci\",\"Rainfall_mean\", \"day_of_the_year\",\"Rainfall_median\",\"Rainfall_net\"]]\n",
    "X.head()"
   ]
  },
  {
   "cell_type": "code",
   "execution_count": null,
   "metadata": {},
   "outputs": [],
   "source": [
    "X.info()"
   ]
  },
  {
   "cell_type": "code",
   "execution_count": null,
   "metadata": {},
   "outputs": [],
   "source": [
    "y=lb1[[\"Lake_Level\"]]\n",
    "y.head()"
   ]
  },
  {
   "cell_type": "code",
   "execution_count": null,
   "metadata": {},
   "outputs": [],
   "source": [
    "y.info()"
   ]
  },
  {
   "cell_type": "markdown",
   "metadata": {},
   "source": [
    "##### Linear regression for Modeling"
   ]
  },
  {
   "cell_type": "code",
   "execution_count": null,
   "metadata": {},
   "outputs": [],
   "source": [
    "import sklearn\n",
    "from sklearn import datasets\n",
    "from sklearn.model_selection import train_test_split\n",
    "from sklearn.linear_model import LinearRegression\n",
    "from sklearn.metrics import r2_score"
   ]
  },
  {
   "cell_type": "code",
   "execution_count": null,
   "metadata": {},
   "outputs": [],
   "source": [
    "train = lb1[~lb1['Year'].isin([2017,2018,2019,2020])]\n",
    "test = lb1[lb1['Year'].isin([2018])]\n",
    "\n",
    "X_train = train[[\"Year\",\"Month\",\"Temperature_Le_Croci\",\"Rainfall_mean\",\"Rainfall_net\",\"day_of_the_year\"]]\n",
    "y_train = train[[\"Lake_Level\"]]\n",
    "\n",
    "X_test = test[[\"Year\",\"Month\",\"Temperature_Le_Croci\",\"Rainfall_mean\", \"Rainfall_net\",\"day_of_the_year\"]]\n",
    "y_test = test[[\"Lake_Level\"]]"
   ]
  },
  {
   "cell_type": "code",
   "execution_count": null,
   "metadata": {},
   "outputs": [],
   "source": [
    "#X_train, X_test,y_train, y_test= train_test_split(X, y, train_size=0.8 , random_state=100)\n",
    "lr= LinearRegression(normalize=True)"
   ]
  },
  {
   "cell_type": "code",
   "execution_count": null,
   "metadata": {},
   "outputs": [],
   "source": [
    "lr.fit(X_train,y_train)"
   ]
  },
  {
   "cell_type": "code",
   "execution_count": null,
   "metadata": {},
   "outputs": [],
   "source": [
    "y_pred= lr.predict(X_test)"
   ]
  },
  {
   "cell_type": "markdown",
   "metadata": {},
   "source": [
    "##### Model accuracy evaluation using r_squared method"
   ]
  },
  {
   "cell_type": "code",
   "execution_count": null,
   "metadata": {},
   "outputs": [],
   "source": [
    "r_squared = r2_score(y_test, y_pred)"
   ]
  },
  {
   "cell_type": "code",
   "execution_count": null,
   "metadata": {},
   "outputs": [],
   "source": [
    "r_squared"
   ]
  },
  {
   "cell_type": "markdown",
   "metadata": {},
   "source": [
    "#### Random forest for Modeling for prediction"
   ]
  },
  {
   "cell_type": "code",
   "execution_count": null,
   "metadata": {},
   "outputs": [],
   "source": [
    "from sklearn.ensemble import RandomForestRegressor\n",
    "regr = RandomForestRegressor(max_depth=100, random_state=0)\n",
    "regr.fit(X_train, y_train)\n",
    "y_pred = regr.predict(X_test)"
   ]
  },
  {
   "cell_type": "code",
   "execution_count": null,
   "metadata": {},
   "outputs": [],
   "source": [
    "r_squared = r2_score(y_test, y_pred)\n",
    "r_squared"
   ]
  },
  {
   "cell_type": "code",
   "execution_count": null,
   "metadata": {},
   "outputs": [],
   "source": []
  },
  {
   "cell_type": "code",
   "execution_count": null,
   "metadata": {},
   "outputs": [],
   "source": []
  },
  {
   "cell_type": "code",
   "execution_count": null,
   "metadata": {},
   "outputs": [],
   "source": []
  },
  {
   "cell_type": "code",
   "execution_count": null,
   "metadata": {},
   "outputs": [],
   "source": []
  },
  {
   "cell_type": "code",
   "execution_count": null,
   "metadata": {},
   "outputs": [],
   "source": []
  }
 ],
 "metadata": {
  "kernelspec": {
   "display_name": "Python 3",
   "language": "python",
   "name": "python3"
  },
  "language_info": {
   "codemirror_mode": {
    "name": "ipython",
    "version": 3
   },
   "file_extension": ".py",
   "mimetype": "text/x-python",
   "name": "python",
   "nbconvert_exporter": "python",
   "pygments_lexer": "ipython3",
   "version": "3.7.6"
  }
 },
 "nbformat": 4,
 "nbformat_minor": 4
}
